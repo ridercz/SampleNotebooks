{
 "cells": [
  {
   "cell_type": "markdown",
   "id": "e69a8727",
   "metadata": {},
   "source": [
    "# Azure Files Demo"
   ]
  },
  {
   "cell_type": "markdown",
   "id": "e28f0d44",
   "metadata": {},
   "source": [
    "## Preparation\n",
    "\n",
    "Install the NuGet package"
   ]
  },
  {
   "cell_type": "code",
   "execution_count": 28,
   "id": "dfe92b98",
   "metadata": {
    "language_info": {
     "name": "polyglot-notebook"
    },
    "polyglot_notebook": {
     "kernelName": "csharp"
    }
   },
   "outputs": [
    {
     "data": {
      "text/html": [
       "<div><div></div><div></div><div><strong>Installed Packages</strong><ul><li><span>Azure.Storage.Files.Shares, 12.23.0</span></li></ul></div></div>"
      ]
     },
     "metadata": {},
     "output_type": "display_data"
    }
   ],
   "source": [
    "#r \"nuget:Azure.Storage.Files.Shares\""
   ]
  },
  {
   "cell_type": "markdown",
   "id": "81dd5839",
   "metadata": {},
   "source": [
    "\n",
    "Include namespaces:"
   ]
  },
  {
   "cell_type": "code",
   "execution_count": 29,
   "metadata": {
    "language_info": {
     "name": "polyglot-notebook"
    },
    "polyglot_notebook": {
     "kernelName": "csharp"
    }
   },
   "outputs": [],
   "source": [
    "using System;\n",
    "using System.IO;\n",
    "using Azure;\n",
    "using Azure.Storage.Files.Shares;\n",
    "using Azure.Storage.Files.Shares.Models;\n",
    "using Azure.Storage.Sas;"
   ]
  },
  {
   "cell_type": "markdown",
   "id": "e9fd7736",
   "metadata": {},
   "source": [
    "Define some constants we would need later:"
   ]
  },
  {
   "cell_type": "code",
   "execution_count": null,
   "metadata": {
    "language_info": {
     "name": "polyglot-notebook"
    },
    "polyglot_notebook": {
     "kernelName": "csharp"
    }
   },
   "outputs": [
    {
     "name": "stdout",
     "output_type": "stream",
     "text": [
      "Using share name: myshare132dbab5\r\n"
     ]
    }
   ],
   "source": [
    "const string AzureConnectionString = \"DefaultEndpointsProtocol=https;AccountName=ztechtest;AccountKey=XXX;EndpointSuffix=core.windows.net\";\n",
    "static string ShareName = \"myshare\" + Guid.NewGuid().ToString()[..8];\n",
    "\n",
    "Console.WriteLine($\"Using share name: {ShareName}\");"
   ]
  },
  {
   "cell_type": "markdown",
   "id": "e34e3f1e",
   "metadata": {},
   "source": [
    "## Open/create the file share"
   ]
  },
  {
   "cell_type": "code",
   "execution_count": 31,
   "metadata": {
    "language_info": {
     "name": "polyglot-notebook"
    },
    "polyglot_notebook": {
     "kernelName": "csharp"
    }
   },
   "outputs": [
    {
     "name": "stdout",
     "output_type": "stream",
     "text": [
      "Share 'myshare132dbab5' is ready.\r\n"
     ]
    }
   ],
   "source": [
    "// Create a ShareClient\n",
    "var share = new ShareClient(AzureConnectionString, ShareName);\n",
    "\n",
    "// Create the share if it doesn't exist\n",
    "share.CreateIfNotExists();\n",
    "\n",
    "Console.WriteLine($\"Share '{ShareName}' is ready.\");"
   ]
  },
  {
   "cell_type": "markdown",
   "id": "7ae19e14",
   "metadata": {},
   "source": [
    "## Work with data"
   ]
  },
  {
   "cell_type": "markdown",
   "id": "0e0592e4",
   "metadata": {},
   "source": [
    "Upload some data from local computer:"
   ]
  },
  {
   "cell_type": "code",
   "execution_count": 32,
   "metadata": {
    "language_info": {
     "name": "polyglot-notebook"
    },
    "polyglot_notebook": {
     "kernelName": "csharp"
    }
   },
   "outputs": [
    {
     "data": {
      "text/plain": [
       "https://ztechtest.file.core.windows.net/myshare132dbab5/img20.jpg"
      ]
     },
     "metadata": {},
     "output_type": "display_data"
    },
    {
     "data": {
      "text/plain": [
       "https://ztechtest.file.core.windows.net/myshare132dbab5/img21.jpg"
      ]
     },
     "metadata": {},
     "output_type": "display_data"
    },
    {
     "data": {
      "text/plain": [
       "https://ztechtest.file.core.windows.net/myshare132dbab5/img22.jpg"
      ]
     },
     "metadata": {},
     "output_type": "display_data"
    },
    {
     "data": {
      "text/plain": [
       "https://ztechtest.file.core.windows.net/myshare132dbab5/img23.jpg"
      ]
     },
     "metadata": {},
     "output_type": "display_data"
    }
   ],
   "source": [
    "var directory = share.GetRootDirectoryClient();\n",
    "var localDirectoryPath = @\"C:\\Windows\\Web\\Wallpaper\\ThemeA\";\n",
    "var localJpgFiles = Directory.GetFiles(localDirectoryPath , \"*.jpg\");\n",
    "foreach (var filePath in localJpgFiles) {\n",
    "    var fileName = Path.GetFileName(filePath);\n",
    "\n",
    "    // Open local file for reading\n",
    "    using var localFileStream = File.OpenRead(filePath);\n",
    "\n",
    "    // Create remote file for writing\n",
    "    var fileClient = directory.GetFileClient(fileName);\n",
    "    await fileClient.DeleteIfExistsAsync();\n",
    "    await fileClient.CreateAsync(localFileStream.Length);\n",
    "\n",
    "    // Upload file content\n",
    "    await fileClient.UploadRangeAsync(new HttpRange(0, localFileStream.Length), localFileStream);\n",
    "    fileClient.Uri.ToString().Display();\n",
    "}"
   ]
  },
  {
   "cell_type": "markdown",
   "id": "d34454b8",
   "metadata": {},
   "source": [
    "In addition to using REST API, we can use SMB to connect to the remote file system:\n",
    "\n",
    "* **Path:** `\\\\<name>.file.core.windows.net\\<share>`\n",
    "* **User name:** `<name>`\n",
    "* **Password:** _primary or secondary access key_\n",
    "\n",
    "Based on settings, we can also use NFS protocol and various other forms of authentication, such as the Entra ID."
   ]
  },
  {
   "cell_type": "markdown",
   "id": "7d6bb5d1",
   "metadata": {},
   "source": [
    "Print all remote files:"
   ]
  },
  {
   "cell_type": "code",
   "execution_count": 33,
   "metadata": {
    "language_info": {
     "name": "polyglot-notebook"
    },
    "polyglot_notebook": {
     "kernelName": "csharp"
    }
   },
   "outputs": [
    {
     "data": {
      "text/html": [
       "<details open=\"open\" class=\"dni-treeview\"><summary><span class=\"dni-code-hint\"><code>Azure.Storage.Files.Shares.Models.ShareFileItem</code></span></summary><div><table><thead><tr></tr></thead><tbody><tr><td>IsDirectory</td><td><div class=\"dni-plaintext\"><pre>False</pre></div></td></tr><tr><td>Name</td><td><div class=\"dni-plaintext\"><pre>img20.jpg</pre></div></td></tr><tr><td>Id</td><td><div class=\"dni-plaintext\"><pre>13835128424026341376</pre></div></td></tr><tr><td>Properties</td><td><details class=\"dni-treeview\"><summary><span class=\"dni-code-hint\"><code>Azure.Storage.Files.Shares.Models.ShareFileItemProperties</code></span></summary><div><table><thead><tr></tr></thead><tbody><tr><td>CreatedOn</td><td><div class=\"dni-plaintext\"><pre>&lt;null&gt;</pre></div></td></tr><tr><td>LastAccessedOn</td><td><div class=\"dni-plaintext\"><pre>&lt;null&gt;</pre></div></td></tr><tr><td>LastWrittenOn</td><td><div class=\"dni-plaintext\"><pre>&lt;null&gt;</pre></div></td></tr><tr><td>ChangedOn</td><td><div class=\"dni-plaintext\"><pre>&lt;null&gt;</pre></div></td></tr><tr><td>LastModified</td><td><div class=\"dni-plaintext\"><pre>&lt;null&gt;</pre></div></td></tr><tr><td>ETag</td><td><div class=\"dni-plaintext\"><pre>&lt;null&gt;</pre></div></td></tr></tbody></table></div></details></td></tr><tr><td>FileAttributes</td><td><div class=\"dni-plaintext\"><pre>&lt;null&gt;</pre></div></td></tr><tr><td>PermissionKey</td><td><div class=\"dni-plaintext\"><pre>&lt;null&gt;</pre></div></td></tr><tr><td>FileSize</td><td><div class=\"dni-plaintext\"><pre>826734</pre></div></td></tr></tbody></table></div></details><style>\r\n",
       ".dni-code-hint {\r\n",
       "    font-style: italic;\r\n",
       "    overflow: hidden;\r\n",
       "    white-space: nowrap;\r\n",
       "}\r\n",
       ".dni-treeview {\r\n",
       "    white-space: nowrap;\r\n",
       "}\r\n",
       ".dni-treeview td {\r\n",
       "    vertical-align: top;\r\n",
       "    text-align: start;\r\n",
       "}\r\n",
       "details.dni-treeview {\r\n",
       "    padding-left: 1em;\r\n",
       "}\r\n",
       "table td {\r\n",
       "    text-align: start;\r\n",
       "}\r\n",
       "table tr { \r\n",
       "    vertical-align: top; \r\n",
       "    margin: 0em 0px;\r\n",
       "}\r\n",
       "table tr td pre \r\n",
       "{ \r\n",
       "    vertical-align: top !important; \r\n",
       "    margin: 0em 0px !important;\r\n",
       "} \r\n",
       "table th {\r\n",
       "    text-align: start;\r\n",
       "}\r\n",
       "</style>"
      ]
     },
     "metadata": {},
     "output_type": "display_data"
    },
    {
     "data": {
      "text/html": [
       "<details open=\"open\" class=\"dni-treeview\"><summary><span class=\"dni-code-hint\"><code>Azure.Storage.Files.Shares.Models.ShareFileItem</code></span></summary><div><table><thead><tr></tr></thead><tbody><tr><td>IsDirectory</td><td><div class=\"dni-plaintext\"><pre>False</pre></div></td></tr><tr><td>Name</td><td><div class=\"dni-plaintext\"><pre>img21.jpg</pre></div></td></tr><tr><td>Id</td><td><div class=\"dni-plaintext\"><pre>11529285414812647424</pre></div></td></tr><tr><td>Properties</td><td><details class=\"dni-treeview\"><summary><span class=\"dni-code-hint\"><code>Azure.Storage.Files.Shares.Models.ShareFileItemProperties</code></span></summary><div><table><thead><tr></tr></thead><tbody><tr><td>CreatedOn</td><td><div class=\"dni-plaintext\"><pre>&lt;null&gt;</pre></div></td></tr><tr><td>LastAccessedOn</td><td><div class=\"dni-plaintext\"><pre>&lt;null&gt;</pre></div></td></tr><tr><td>LastWrittenOn</td><td><div class=\"dni-plaintext\"><pre>&lt;null&gt;</pre></div></td></tr><tr><td>ChangedOn</td><td><div class=\"dni-plaintext\"><pre>&lt;null&gt;</pre></div></td></tr><tr><td>LastModified</td><td><div class=\"dni-plaintext\"><pre>&lt;null&gt;</pre></div></td></tr><tr><td>ETag</td><td><div class=\"dni-plaintext\"><pre>&lt;null&gt;</pre></div></td></tr></tbody></table></div></details></td></tr><tr><td>FileAttributes</td><td><div class=\"dni-plaintext\"><pre>&lt;null&gt;</pre></div></td></tr><tr><td>PermissionKey</td><td><div class=\"dni-plaintext\"><pre>&lt;null&gt;</pre></div></td></tr><tr><td>FileSize</td><td><div class=\"dni-plaintext\"><pre>833851</pre></div></td></tr></tbody></table></div></details><style>\r\n",
       ".dni-code-hint {\r\n",
       "    font-style: italic;\r\n",
       "    overflow: hidden;\r\n",
       "    white-space: nowrap;\r\n",
       "}\r\n",
       ".dni-treeview {\r\n",
       "    white-space: nowrap;\r\n",
       "}\r\n",
       ".dni-treeview td {\r\n",
       "    vertical-align: top;\r\n",
       "    text-align: start;\r\n",
       "}\r\n",
       "details.dni-treeview {\r\n",
       "    padding-left: 1em;\r\n",
       "}\r\n",
       "table td {\r\n",
       "    text-align: start;\r\n",
       "}\r\n",
       "table tr { \r\n",
       "    vertical-align: top; \r\n",
       "    margin: 0em 0px;\r\n",
       "}\r\n",
       "table tr td pre \r\n",
       "{ \r\n",
       "    vertical-align: top !important; \r\n",
       "    margin: 0em 0px !important;\r\n",
       "} \r\n",
       "table th {\r\n",
       "    text-align: start;\r\n",
       "}\r\n",
       "</style>"
      ]
     },
     "metadata": {},
     "output_type": "display_data"
    },
    {
     "data": {
      "text/html": [
       "<details open=\"open\" class=\"dni-treeview\"><summary><span class=\"dni-code-hint\"><code>Azure.Storage.Files.Shares.Models.ShareFileItem</code></span></summary><div><table><thead><tr></tr></thead><tbody><tr><td>IsDirectory</td><td><div class=\"dni-plaintext\"><pre>False</pre></div></td></tr><tr><td>Name</td><td><div class=\"dni-plaintext\"><pre>img22.jpg</pre></div></td></tr><tr><td>Id</td><td><div class=\"dni-plaintext\"><pre>16140971433240035328</pre></div></td></tr><tr><td>Properties</td><td><details class=\"dni-treeview\"><summary><span class=\"dni-code-hint\"><code>Azure.Storage.Files.Shares.Models.ShareFileItemProperties</code></span></summary><div><table><thead><tr></tr></thead><tbody><tr><td>CreatedOn</td><td><div class=\"dni-plaintext\"><pre>&lt;null&gt;</pre></div></td></tr><tr><td>LastAccessedOn</td><td><div class=\"dni-plaintext\"><pre>&lt;null&gt;</pre></div></td></tr><tr><td>LastWrittenOn</td><td><div class=\"dni-plaintext\"><pre>&lt;null&gt;</pre></div></td></tr><tr><td>ChangedOn</td><td><div class=\"dni-plaintext\"><pre>&lt;null&gt;</pre></div></td></tr><tr><td>LastModified</td><td><div class=\"dni-plaintext\"><pre>&lt;null&gt;</pre></div></td></tr><tr><td>ETag</td><td><div class=\"dni-plaintext\"><pre>&lt;null&gt;</pre></div></td></tr></tbody></table></div></details></td></tr><tr><td>FileAttributes</td><td><div class=\"dni-plaintext\"><pre>&lt;null&gt;</pre></div></td></tr><tr><td>PermissionKey</td><td><div class=\"dni-plaintext\"><pre>&lt;null&gt;</pre></div></td></tr><tr><td>FileSize</td><td><div class=\"dni-plaintext\"><pre>760748</pre></div></td></tr></tbody></table></div></details><style>\r\n",
       ".dni-code-hint {\r\n",
       "    font-style: italic;\r\n",
       "    overflow: hidden;\r\n",
       "    white-space: nowrap;\r\n",
       "}\r\n",
       ".dni-treeview {\r\n",
       "    white-space: nowrap;\r\n",
       "}\r\n",
       ".dni-treeview td {\r\n",
       "    vertical-align: top;\r\n",
       "    text-align: start;\r\n",
       "}\r\n",
       "details.dni-treeview {\r\n",
       "    padding-left: 1em;\r\n",
       "}\r\n",
       "table td {\r\n",
       "    text-align: start;\r\n",
       "}\r\n",
       "table tr { \r\n",
       "    vertical-align: top; \r\n",
       "    margin: 0em 0px;\r\n",
       "}\r\n",
       "table tr td pre \r\n",
       "{ \r\n",
       "    vertical-align: top !important; \r\n",
       "    margin: 0em 0px !important;\r\n",
       "} \r\n",
       "table th {\r\n",
       "    text-align: start;\r\n",
       "}\r\n",
       "</style>"
      ]
     },
     "metadata": {},
     "output_type": "display_data"
    },
    {
     "data": {
      "text/html": [
       "<details open=\"open\" class=\"dni-treeview\"><summary><span class=\"dni-code-hint\"><code>Azure.Storage.Files.Shares.Models.ShareFileItem</code></span></summary><div><table><thead><tr></tr></thead><tbody><tr><td>IsDirectory</td><td><div class=\"dni-plaintext\"><pre>False</pre></div></td></tr><tr><td>Name</td><td><div class=\"dni-plaintext\"><pre>img23.jpg</pre></div></td></tr><tr><td>Id</td><td><div class=\"dni-plaintext\"><pre>10376363910205800448</pre></div></td></tr><tr><td>Properties</td><td><details class=\"dni-treeview\"><summary><span class=\"dni-code-hint\"><code>Azure.Storage.Files.Shares.Models.ShareFileItemProperties</code></span></summary><div><table><thead><tr></tr></thead><tbody><tr><td>CreatedOn</td><td><div class=\"dni-plaintext\"><pre>&lt;null&gt;</pre></div></td></tr><tr><td>LastAccessedOn</td><td><div class=\"dni-plaintext\"><pre>&lt;null&gt;</pre></div></td></tr><tr><td>LastWrittenOn</td><td><div class=\"dni-plaintext\"><pre>&lt;null&gt;</pre></div></td></tr><tr><td>ChangedOn</td><td><div class=\"dni-plaintext\"><pre>&lt;null&gt;</pre></div></td></tr><tr><td>LastModified</td><td><div class=\"dni-plaintext\"><pre>&lt;null&gt;</pre></div></td></tr><tr><td>ETag</td><td><div class=\"dni-plaintext\"><pre>&lt;null&gt;</pre></div></td></tr></tbody></table></div></details></td></tr><tr><td>FileAttributes</td><td><div class=\"dni-plaintext\"><pre>&lt;null&gt;</pre></div></td></tr><tr><td>PermissionKey</td><td><div class=\"dni-plaintext\"><pre>&lt;null&gt;</pre></div></td></tr><tr><td>FileSize</td><td><div class=\"dni-plaintext\"><pre>907112</pre></div></td></tr></tbody></table></div></details><style>\r\n",
       ".dni-code-hint {\r\n",
       "    font-style: italic;\r\n",
       "    overflow: hidden;\r\n",
       "    white-space: nowrap;\r\n",
       "}\r\n",
       ".dni-treeview {\r\n",
       "    white-space: nowrap;\r\n",
       "}\r\n",
       ".dni-treeview td {\r\n",
       "    vertical-align: top;\r\n",
       "    text-align: start;\r\n",
       "}\r\n",
       "details.dni-treeview {\r\n",
       "    padding-left: 1em;\r\n",
       "}\r\n",
       "table td {\r\n",
       "    text-align: start;\r\n",
       "}\r\n",
       "table tr { \r\n",
       "    vertical-align: top; \r\n",
       "    margin: 0em 0px;\r\n",
       "}\r\n",
       "table tr td pre \r\n",
       "{ \r\n",
       "    vertical-align: top !important; \r\n",
       "    margin: 0em 0px !important;\r\n",
       "} \r\n",
       "table th {\r\n",
       "    text-align: start;\r\n",
       "}\r\n",
       "</style>"
      ]
     },
     "metadata": {},
     "output_type": "display_data"
    }
   ],
   "source": [
    "var remoteItems = directory.GetFilesAndDirectoriesAsync();\n",
    "await foreach (var item in remoteItems) {\n",
    "    item.Display();\n",
    "}"
   ]
  },
  {
   "cell_type": "markdown",
   "id": "577815a4",
   "metadata": {},
   "source": [
    "Download all the remote files to temporary folder:"
   ]
  },
  {
   "cell_type": "code",
   "execution_count": 34,
   "metadata": {
    "language_info": {
     "name": "polyglot-notebook"
    },
    "polyglot_notebook": {
     "kernelName": "csharp"
    }
   },
   "outputs": [
    {
     "data": {
      "text/plain": [
       "C:\\Users\\Altair\\AppData\\Local\\Temp\\img20.jpg"
      ]
     },
     "metadata": {},
     "output_type": "display_data"
    },
    {
     "data": {
      "text/plain": [
       "C:\\Users\\Altair\\AppData\\Local\\Temp\\img21.jpg"
      ]
     },
     "metadata": {},
     "output_type": "display_data"
    },
    {
     "data": {
      "text/plain": [
       "C:\\Users\\Altair\\AppData\\Local\\Temp\\img22.jpg"
      ]
     },
     "metadata": {},
     "output_type": "display_data"
    },
    {
     "data": {
      "text/plain": [
       "C:\\Users\\Altair\\AppData\\Local\\Temp\\img23.jpg"
      ]
     },
     "metadata": {},
     "output_type": "display_data"
    }
   ],
   "source": [
    "// Get path to temporary directory\n",
    "var tempDirectory = Path.GetTempPath();\n",
    "\n",
    "// Process all remote files and download them to temporary folder\n",
    "await foreach (var item in remoteItems) {\n",
    "    var localFilePath = Path.Combine(tempDirectory, item.Name);\n",
    "    \n",
    "    // Create file client\n",
    "    var fileClient = directory.GetFileClient(item.Name);\n",
    "\n",
    "    // Download the file\n",
    "    var result = await fileClient.DownloadAsync();\n",
    "    if(result.Value == null) {\n",
    "        Console.WriteLine($\"Failed to download file {item.Name}\");\n",
    "        continue;\n",
    "    }\n",
    "\n",
    "    // Save the file to the local file system\n",
    "    using (var stream = File.OpenWrite(localFilePath)) {\n",
    "        await result.Value.Content.CopyToAsync(stream);\n",
    "    }\n",
    "    localFilePath.Display();\n",
    "}"
   ]
  },
  {
   "cell_type": "markdown",
   "id": "e800ef2a",
   "metadata": {},
   "source": [
    "## Cleanup"
   ]
  },
  {
   "cell_type": "markdown",
   "id": "a16c99a7",
   "metadata": {},
   "source": [
    "Delete the share including all files:"
   ]
  },
  {
   "cell_type": "code",
   "execution_count": 35,
   "metadata": {
    "language_info": {
     "name": "polyglot-notebook"
    },
    "polyglot_notebook": {
     "kernelName": "csharp"
    }
   },
   "outputs": [],
   "source": [
    "share.DeleteIfExists();"
   ]
  }
 ],
 "metadata": {
  "kernelspec": {
   "display_name": ".NET (C#)",
   "language": "C#",
   "name": ".net-csharp"
  },
  "language_info": {
   "name": "polyglot-notebook"
  },
  "polyglot_notebook": {
   "kernelInfo": {
    "defaultKernelName": "csharp",
    "items": [
     {
      "aliases": [],
      "languageName": "csharp",
      "name": "csharp"
     }
    ]
   }
  }
 },
 "nbformat": 4,
 "nbformat_minor": 5
}

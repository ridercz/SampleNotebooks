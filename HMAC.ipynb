{
 "cells": [
  {
   "cell_type": "markdown",
   "metadata": {
    "polyglot_notebook": {
     "kernelName": "csharp"
    }
   },
   "source": [
    "# HMAC (Hash Message Authentication Code)\n",
    "\n",
    "Vlastnosti hashovacích algoritmů je možné využít k vytvoření jednoduchého elektronického podpisu. Pozor! Tento elektronický podpis je symetrický, tj. kdokoliv ho dokáže ověřit, dokáže ho i padělat. Proto ho typicky používáme v případech, kdy posíláme data sami sobě prostřednictvím nedůvěryhodného kanálu. Např. roundtripování dat přes webového klienta (cookies, URL, pole formuláře).\n",
    "\n",
    "## Princip HMAC\n",
    "\n",
    "Základní princip je jednoduchý: k podepisovaným datům přidáme tajný klíč a společně to zahashujeme:"
   ]
  },
  {
   "cell_type": "code",
   "execution_count": 1,
   "metadata": {
    "polyglot_notebook": {
     "kernelName": "csharp"
    }
   },
   "outputs": [
    {
     "name": "stdout",
     "output_type": "stream",
     "text": [
      "SIG(HelloWorld): b325cf081cf4c8d0471a22ecce830372\n",
      "SIG(HelloWorle): b87216f8612af161ee45c3a45ef32b9e\n"
     ]
    }
   ],
   "source": [
    "using System.Security.Cryptography;\n",
    "\n",
    "public string GetSignature(string s, string key) {\n",
    "    var signedString = s + key;\n",
    "    var md5 = MD5.Create();\n",
    "    var hash = md5.ComputeHash(System.Text.Encoding.UTF8.GetBytes(signedString));\n",
    "    return string.Join(string.Empty, hash.Select(b => b.ToString(\"x2\")));\n",
    "}\n",
    "\n",
    "Console.WriteLine($\"SIG(HelloWorld): {GetSignature(\"HelloWorld\", \"SecretKey\")}\");\n",
    "Console.WriteLine($\"SIG(HelloWorle): {GetSignature(\"HelloWorle\", \"SecretKey\")}\");"
   ]
  },
  {
   "attachments": {
    "image.png": {
     "image/png": "[encoded data removed]"
    }
   },
   "cell_type": "markdown",
   "metadata": {},
   "source": [
    "**Pozor! výše uvedený kód je nebezpečný, nepoužívejte ho!**\n",
    "\n",
    "* Používá algoritmus MD5, který není pro tento účel nadále bezpečný. Použil jsem ho jenom protože výsledek je krátký a rozdíl snadno viditelný.\n",
    "* Spojení zprávy a klíče se ve skutečnosti dělá poněkud sofistikovaněji, aby se zabránilo některým útokům.\n",
    "\n",
    "## Opravdový HMAC\n",
    "\n",
    "Je definován v [RFC2104](https://www.rfc-editor.org/rfc/rfc2104.html) a funguje principiálně takto:\n",
    "\n",
    "![image.png](attachment:image.png)\n",
    "\n",
    "Kde:\n",
    "\n",
    "* **H** je hashovací funkce\n",
    "* ***m*** je zpráva\n",
    "* ***K*** je tajný klíč\n",
    "* ***opad*** je vnější padding, doplnění dat na velikost bloku pomocí `0x5C`\n",
    "* ***ipad*** je vnitřní padding, doplnění dat na velikost bloku pomocí `0x36`\n",
    "* Operace **∥** je zřetězení\n",
    "* Operace **⊕** je bitová nonekvivalence (XOR)\n",
    "\n",
    "### HMAC v .NETu\n",
    "\n",
    "HMAC algoritmy jsou dostupné v .NETu v namespace `System.Security.Cryptography` a jsou odvozené od bázové třídy `HMAC`, např. `HMACSHA256`."
   ]
  },
  {
   "cell_type": "code",
   "execution_count": 2,
   "metadata": {
    "polyglot_notebook": {
     "kernelName": "csharp"
    }
   },
   "outputs": [
    {
     "name": "stdout",
     "output_type": "stream",
     "text": [
      "HMACSHA256(HelloWorld): 75c63d7355ccd5daa1a34558788efc79d1897bcdf75d5592f183682f3d8aacc3\n",
      "HMACSHA256(HelloWorlc): 250fea3e4b7f00f0af8fb840defe3f191b9bb080a0fc6e096376009f9a177503\n"
     ]
    }
   ],
   "source": [
    "static string GetHmacSignature(string s, string key) {\n",
    "    var sBytes = System.Text.Encoding.UTF8.GetBytes(s);\n",
    "    var keyBytes = System.Text.Encoding.UTF8.GetBytes(key);\n",
    "\n",
    "    var hmac = new HMACSHA256(keyBytes);\n",
    "    var hash = hmac.ComputeHash(sBytes);\n",
    "    \n",
    "    return string.Join(string.Empty, hash.Select(b => b.ToString(\"x2\")));\n",
    "}\n",
    "\n",
    "Console.WriteLine($\"HMACSHA256(HelloWorld): {GetHmacSignature(\"HelloWorld\", \"SecretKey\")}\");\n",
    "Console.WriteLine($\"HMACSHA256(HelloWorlc): {GetHmacSignature(\"HelloWorlc\", \"SecretKey\")}\");"
   ]
  },
  {
   "cell_type": "markdown",
   "metadata": {},
   "source": [
    "## Použití HMAC\n",
    "\n",
    "ASP.NET používá HMAC prakticky všude, kde se nějaká data posílají přes klienta (browser), např.:\n",
    "\n",
    "* ViewState, ControlState (v .NET Frameworku).\n",
    "* Autentizační tokeny v cookie.\n",
    "* CSRF token jako skryté pole formuláře.\n",
    "\n",
    "Můžete ho používat i vy:\n",
    "\n",
    "* Podepisování jiných cookies.\n",
    "* Podepisování URL, aby nemohla být modifikována, např. při autentizaci API. V takovém případě ale pozor na replay attacky, data by měla obsahovat počítadlo nebo aktuální čas."
   ]
  }
 ],
 "metadata": {
  "kernelspec": {
   "display_name": ".NET (C#)",
   "language": "C#",
   "name": ".net-csharp"
  },
  "polyglot_notebook": {
   "kernelInfo": {
    "defaultKernelName": "csharp",
    "items": [
     {
      "aliases": [],
      "languageName": "csharp",
      "name": "csharp"
     }
    ]
   }
  }
 },
 "nbformat": 4,
 "nbformat_minor": 2
}

{
 "cells": [
  {
   "cell_type": "markdown",
   "id": "e6254f02",
   "metadata": {},
   "source": [
    "# Make Azure Blobs Publicly Accessible"
   ]
  },
  {
   "cell_type": "markdown",
   "id": "e8920552",
   "metadata": {},
   "source": [
    "## Preparation"
   ]
  },
  {
   "cell_type": "code",
   "execution_count": 7,
   "id": "4255a62a",
   "metadata": {
    "language_info": {
     "name": "polyglot-notebook"
    },
    "polyglot_notebook": {
     "kernelName": "csharp"
    }
   },
   "outputs": [
    {
     "data": {
      "text/html": [
       "<div><div></div><div></div><div><strong>Installed Packages</strong><ul><li><span>Azure.Storage.Blobs, 12.25.0</span></li></ul></div></div>"
      ]
     },
     "metadata": {},
     "output_type": "display_data"
    }
   ],
   "source": [
    "#r \"nuget: Azure.Storage.Blobs\""
   ]
  },
  {
   "cell_type": "markdown",
   "id": "2d17b022",
   "metadata": {},
   "source": [
    "Import namespaces:"
   ]
  },
  {
   "cell_type": "code",
   "execution_count": 8,
   "id": "69c09c89",
   "metadata": {
    "language_info": {
     "name": "polyglot-notebook"
    },
    "polyglot_notebook": {
     "kernelName": "csharp"
    }
   },
   "outputs": [],
   "source": [
    "using System.IO;\n",
    "using Azure.Storage.Blobs;\n",
    "using Azure.Storage.Blobs.Models;"
   ]
  },
  {
   "cell_type": "markdown",
   "id": "a9207196",
   "metadata": {},
   "source": [
    "Set up connection string:"
   ]
  },
  {
   "cell_type": "code",
   "execution_count": null,
   "id": "e9a58c40",
   "metadata": {
    "language_info": {
     "name": "polyglot-notebook"
    },
    "polyglot_notebook": {
     "kernelName": "csharp"
    }
   },
   "outputs": [],
   "source": [
    "string connectionString = \"DefaultEndpointsProtocol=https;AccountName=ztechtest;AccountKey=XXX;EndpointSuffix=core.windows.net\";"
   ]
  },
  {
   "cell_type": "markdown",
   "id": "48970e09",
   "metadata": {},
   "source": [
    "## Usage\n",
    "\n",
    "Create container with public access:"
   ]
  },
  {
   "cell_type": "code",
   "execution_count": 10,
   "id": "ebabb790",
   "metadata": {
    "language_info": {
     "name": "polyglot-notebook"
    },
    "polyglot_notebook": {
     "kernelName": "csharp"
    }
   },
   "outputs": [
    {
     "name": "stdout",
     "output_type": "stream",
     "text": [
      "Container 'public' created with public anonymous access.\r\n"
     ]
    }
   ],
   "source": [
    "// Create a BlobServiceClient using the connection string\n",
    "var blobServiceClient = new BlobServiceClient(connectionString);\n",
    "\n",
    "// Create new container name\n",
    "var containerName = \"public\";\n",
    "\n",
    "// Check if the container exists\n",
    "var containerClient = blobServiceClient.GetBlobContainerClient(containerName);\n",
    "if (await containerClient.ExistsAsync()) {\n",
    "    // Set public access if it already exists\n",
    "    await containerClient.SetAccessPolicyAsync(PublicAccessType.Blob);\n",
    "    Console.WriteLine($\"Container '{containerName}' setup for public anonymous access.\");\n",
    "} else {\n",
    "    // Create the container with public access\n",
    "    containerClient = await blobServiceClient.CreateBlobContainerAsync(\n",
    "        containerName,\n",
    "        PublicAccessType.Blob\n",
    "    );\n",
    "    Console.WriteLine($\"Container '{containerName}' created with public anonymous access.\");\n",
    "}"
   ]
  },
  {
   "cell_type": "markdown",
   "id": "4ff7ad69",
   "metadata": {},
   "source": [
    "* `PublicAccessType.BlobContainer` allows anonymous/public read access to both the blobs and the container metadata (like listing blobs in the container).\n",
    "* `PublicAccessType.Blob` allows anonymous/public read access only to the blobs themselves. The container metadata (such as listing blobs) is not accessible publicly."
   ]
  },
  {
   "cell_type": "markdown",
   "id": "75b5e185",
   "metadata": {},
   "source": [
    "Upload some pictures:"
   ]
  },
  {
   "cell_type": "code",
   "execution_count": 11,
   "id": "0aaa0c26",
   "metadata": {
    "language_info": {
     "name": "polyglot-notebook"
    },
    "polyglot_notebook": {
     "kernelName": "csharp"
    }
   },
   "outputs": [
    {
     "name": "stdout",
     "output_type": "stream",
     "text": [
      "https://ztechtest.blob.core.windows.net/public/img20.jpg\n",
      "https://ztechtest.blob.core.windows.net/public/img21.jpg\n",
      "https://ztechtest.blob.core.windows.net/public/img22.jpg\n",
      "https://ztechtest.blob.core.windows.net/public/img23.jpg\n"
     ]
    }
   ],
   "source": [
    "var directoryPath = @\"C:\\Windows\\Web\\Wallpaper\\ThemeA\";\n",
    "var jpgFiles = Directory.GetFiles(directoryPath, \"*.jpg\");\n",
    "foreach (var filePath in jpgFiles) {\n",
    "    var fileName = Path.GetFileName(filePath);\n",
    "    var fileBlobClient = containerClient.GetBlobClient(fileName);\n",
    "\n",
    "    using (var fileStream = File.OpenRead(filePath)) {\n",
    "        // Add headers to allow direct display in browser and cache for a year\n",
    "        var blobHttpHeaders = new BlobHttpHeaders { \n",
    "            ContentType = \"image/jpeg\",\n",
    "            CacheControl = \"public, max-age=31536000\"\n",
    "        };\n",
    "        // Upload the file with the specified headers\n",
    "        await fileBlobClient.UploadAsync(fileStream, blobHttpHeaders);\n",
    "\n",
    "        // Output the URL of the uploaded file\n",
    "        Console.WriteLine(fileBlobClient.Uri);\n",
    "    }\n",
    "}"
   ]
  },
  {
   "cell_type": "markdown",
   "id": "758d63bb",
   "metadata": {},
   "source": [
    "The URLs generated above are publicly accessible, anyone who knows them can download the image."
   ]
  },
  {
   "cell_type": "markdown",
   "id": "7fb6d11a",
   "metadata": {},
   "source": [
    "## Cleanup"
   ]
  },
  {
   "cell_type": "markdown",
   "id": "858ab2c3",
   "metadata": {},
   "source": [
    "Delete the container and all its blobs:"
   ]
  },
  {
   "cell_type": "code",
   "execution_count": 12,
   "id": "543b4151",
   "metadata": {
    "language_info": {
     "name": "polyglot-notebook"
    },
    "polyglot_notebook": {
     "kernelName": "csharp"
    }
   },
   "outputs": [
    {
     "name": "stdout",
     "output_type": "stream",
     "text": [
      "Container 'public' and all its blobs have been deleted.\r\n"
     ]
    }
   ],
   "source": [
    "if (await containerClient.ExistsAsync()) {\n",
    "    await containerClient.DeleteAsync();\n",
    "    Console.WriteLine($\"Container '{containerName}' and all its blobs have been deleted.\");\n",
    "} else {\n",
    "    Console.WriteLine($\"Container '{containerName}' does not exist.\");\n",
    "}"
   ]
  }
 ],
 "metadata": {
  "kernelspec": {
   "display_name": ".NET (C#)",
   "language": "C#",
   "name": ".net-csharp"
  },
  "language_info": {
   "name": "polyglot-notebook"
  },
  "polyglot_notebook": {
   "kernelInfo": {
    "defaultKernelName": "csharp",
    "items": [
     {
      "aliases": [],
      "languageName": "csharp",
      "name": "csharp"
     }
    ]
   }
  }
 },
 "nbformat": 4,
 "nbformat_minor": 5
}

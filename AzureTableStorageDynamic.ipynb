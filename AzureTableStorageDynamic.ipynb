{
 "cells": [
  {
   "cell_type": "markdown",
   "id": "bbc101d5",
   "metadata": {},
   "source": [
    "# Using Azure Table Storage with dynamic data"
   ]
  },
  {
   "cell_type": "markdown",
   "id": "25e8f9d9",
   "metadata": {},
   "source": [
    "## Preparation\n",
    "\n",
    "Include necessary packages:"
   ]
  },
  {
   "cell_type": "code",
   "execution_count": 118,
   "id": "54af104f",
   "metadata": {
    "language_info": {
     "name": "polyglot-notebook"
    },
    "polyglot_notebook": {
     "kernelName": "csharp"
    }
   },
   "outputs": [
    {
     "data": {
      "text/html": [
       "<div><div></div><div></div><div><strong>Installed Packages</strong><ul><li><span>Azure.Data.Tables, 12.11.0</span></li><li><span>MetadataExtractor, 2.8.1</span></li></ul></div></div>"
      ]
     },
     "metadata": {},
     "output_type": "display_data"
    }
   ],
   "source": [
    "#r \"nuget: Azure.Data.Tables\"\n",
    "#r \"nuget: MetadataExtractor\""
   ]
  },
  {
   "cell_type": "markdown",
   "id": "18610f43",
   "metadata": {},
   "source": [
    "Define some constants we would need later:"
   ]
  },
  {
   "cell_type": "code",
   "execution_count": null,
   "id": "4626995c",
   "metadata": {
    "language_info": {
     "name": "polyglot-notebook"
    },
    "polyglot_notebook": {
     "kernelName": "csharp"
    }
   },
   "outputs": [],
   "source": [
    "const string AzureConnectionString = \"DefaultEndpointsProtocol=https;AccountName=ztechtest;AccountKey=XXX;EndpointSuffix=core.windows.net\";\n",
    "const string RootFolderName = @\"D:\\OneDrive-Altairis\\VideoProduction\\Z-TECH\\Main-2025\\src\\08\";\n",
    "static string AzureTableName = \"files\" + Guid.NewGuid().ToString()[..8];"
   ]
  },
  {
   "cell_type": "markdown",
   "id": "93df5999",
   "metadata": {},
   "source": [
    "Import namespaces:"
   ]
  },
  {
   "cell_type": "code",
   "execution_count": 120,
   "id": "2038d4fd",
   "metadata": {
    "language_info": {
     "name": "polyglot-notebook"
    },
    "polyglot_notebook": {
     "kernelName": "csharp"
    }
   },
   "outputs": [],
   "source": [
    "using Azure;\n",
    "using Azure.Data.Tables;\n",
    "using System.IO;\n",
    "using System.Text.RegularExpressions;"
   ]
  },
  {
   "cell_type": "markdown",
   "id": "4add6499",
   "metadata": {},
   "source": [
    "## Helper function"
   ]
  },
  {
   "cell_type": "markdown",
   "id": "49c11f0d",
   "metadata": {},
   "source": [
    "This function will compute MD5 hash of given string. We will use hashes for partition and row keys (instead of the raw data), because keys have limited lengths (1024 chars) and cannot contain some special characters. So to play it safe, it's generally a good idea to use hashes. We can safely use MD5, because collision attacks are not relevant for this scenario and MD5 is fast, cheap and short."
   ]
  },
  {
   "cell_type": "code",
   "execution_count": 121,
   "id": "092a9bc0",
   "metadata": {
    "language_info": {
     "name": "polyglot-notebook"
    },
    "polyglot_notebook": {
     "kernelName": "csharp"
    }
   },
   "outputs": [],
   "source": [
    "static string GetMD5Hash(string s) {\n",
    "    var inputBytes = System.Text.Encoding.UTF8.GetBytes(s);\n",
    "    var hashBytes = System.Security.Cryptography.MD5.HashData(inputBytes);\n",
    "    return Convert.ToHexStringLower(hashBytes);\n",
    "}"
   ]
  },
  {
   "cell_type": "markdown",
   "id": "d12f69c0",
   "metadata": {},
   "source": [
    "## Insert Data"
   ]
  },
  {
   "cell_type": "markdown",
   "id": "5b0dae56",
   "metadata": {},
   "source": [
    "Create table client and ensure table exists:"
   ]
  },
  {
   "cell_type": "code",
   "execution_count": 122,
   "id": "26d70efd",
   "metadata": {
    "language_info": {
     "name": "polyglot-notebook"
    },
    "polyglot_notebook": {
     "kernelName": "csharp"
    }
   },
   "outputs": [
    {
     "name": "stdout",
     "output_type": "stream",
     "text": [
      "Initializing Azure Table Storage client for table filesd6af978d...OK\n"
     ]
    }
   ],
   "source": [
    "Console.Write($\"Initializing Azure Table Storage client for table {AzureTableName}...\");\n",
    "\n",
    "// Create TableServiceClient\n",
    "var serviceClient = new TableServiceClient(AzureConnectionString);\n",
    "\n",
    "// Create TableClient for the specified table\n",
    "var tableClient = serviceClient.GetTableClient(AzureTableName);\n",
    "\n",
    "// Ensure the table exists\n",
    "await tableClient.CreateIfNotExistsAsync();\n",
    "\n",
    "Console.WriteLine(\"OK\");"
   ]
  },
  {
   "cell_type": "markdown",
   "id": "5c67882d",
   "metadata": {},
   "source": [
    "Get metadata for all files and insert them into table storage. The structure is dynamic, based on metadata available in the file. See [documentation](https://learn.microsoft.com/en-us/rest/api/storageservices/understanding-the-table-service-data-model) for limitations on property names, types and values.\n",
    "\n",
    "We will insert the data in batches, to speed the process up and make it cheaper. We are billed per transaction and therefore using batches is cheaper. It also lowers the number of HTTP requests we have to do.\n",
    "\n",
    "There are two limitations to batches:\n",
    "* Batch can contain up to 100 operations.\n",
    "* All operations must be over the same partition."
   ]
  },
  {
   "cell_type": "code",
   "execution_count": 123,
   "id": "bb7f104f",
   "metadata": {
    "language_info": {
     "name": "polyglot-notebook"
    },
    "polyglot_notebook": {
     "kernelName": "csharp"
    }
   },
   "outputs": [
    {
     "name": "stdout",
     "output_type": "stream",
     "text": [
      "Processing folder D:\\OneDrive-Altairis\\VideoProduction\\Z-TECH\\Main-2025\\src\\08\\01-LedTubeWallMount (PK: 098a51024a36981db9d5097ac897b2ec):............\n",
      "Submitting batch of 12 items...OK\n",
      "Processing folder D:\\OneDrive-Altairis\\VideoProduction\\Z-TECH\\Main-2025\\src\\08\\02-LackAttack (PK: a64c812d4f7d573e3df8725ad27bbd94):........\n",
      "Submitting batch of 8 items...OK\n",
      "Processing folder D:\\OneDrive-Altairis\\VideoProduction\\Z-TECH\\Main-2025\\src\\08\\03-AzureBlobs (PK: 8aebea0da173086b2c2795bdeb19af06):........\n",
      "Submitting batch of 8 items...OK\n",
      "Processing folder D:\\OneDrive-Altairis\\VideoProduction\\Z-TECH\\Main-2025\\src\\08\\04-ExifMetadata (PK: 6d544e1095702b1655d1a87ea0b2670c):..............\n",
      "Submitting batch of 14 items...OK\n",
      "Processing folder D:\\OneDrive-Altairis\\VideoProduction\\Z-TECH\\Main-2025\\src\\08\\05-ExifDotNet (PK: 45cfde900c3d8125be4cba8a013f584e):........\n",
      "Submitting batch of 8 items...OK\n",
      "Processing folder D:\\OneDrive-Altairis\\VideoProduction\\Z-TECH\\Main-2025\\src\\08\\06-AzureQueues (PK: f102dad1a9aa6d66b0bb60bad230f962):.........\n",
      "Submitting batch of 9 items...OK\n",
      "Processing folder D:\\OneDrive-Altairis\\VideoProduction\\Z-TECH\\Main-2025\\src\\08\\07-AzureTables (PK: 6c243eb4af09787ad459c00bde5b7c54):.\n",
      "Submitting batch of 1 items...OK\n",
      "Processed 60 items in 7 batches.\n"
     ]
    }
   ],
   "source": [
    "// Prepare to batch insert entities\n",
    "var batch = new List<TableTransactionAction>();\n",
    "var partitionKey = string.Empty;\n",
    "var lastDirectory = string.Empty;\n",
    "var itemCount = 0;\n",
    "var batchCount = 0;\n",
    "\n",
    "// Process all files in the directory \n",
    "var rootInfo = new DirectoryInfo(RootFolderName);\n",
    "var files = rootInfo.GetFiles(\"*.*\", SearchOption.AllDirectories).OrderBy(f => f.FullName);\n",
    "\n",
    "foreach (var file in files) {\n",
    "    // Commit batch if it reaches 100 items or if the folder changes\n",
    "    if (batch.Count == 100 || !lastDirectory.Equals(file.DirectoryName, StringComparison.Ordinal)) {\n",
    "        if (batch.Count > 0) {\n",
    "            // Submit the batch of transactions\n",
    "            Console.WriteLine();\n",
    "            Console.Write($\"Submitting batch of {batch.Count} items...\");\n",
    "            await tableClient.SubmitTransactionAsync(batch);\n",
    "            batch.Clear();\n",
    "            Console.WriteLine(\"OK\");\n",
    "            batchCount++;\n",
    "        }\n",
    "\n",
    "        // Update the partition key based on the current folder if it has changed\n",
    "        if (!lastDirectory.Equals(file.DirectoryName, StringComparison.Ordinal)) {\n",
    "            lastDirectory = file.DirectoryName ?? string.Empty;\n",
    "            partitionKey = GetMD5Hash(lastDirectory);\n",
    "            Console.Write($\"Processing folder {lastDirectory} (PK: {partitionKey}):\");\n",
    "        }\n",
    "    }\n",
    "\n",
    "    // Process each file and extract metadata\n",
    "    Console.Write(\".\");\n",
    "    var metadata = new Dictionary<string, object> {\n",
    "        {\"PartitionKey\", partitionKey},\n",
    "        {\"RowKey\", GetMD5Hash(file.Name)},\n",
    "        {\"OriginalFileName\", file.FullName},\n",
    "        {\"Size\", file.Length}\n",
    "    };\n",
    "\n",
    "    // Extract image metadata, if possible\n",
    "    try {\n",
    "        static string toPropertyName(string dirName, string tagName) \n",
    "            => string.Join(\"_\", Regex.Replace(dirName, @\"[^A-Za-z0-9]\", \"\"), Regex.Replace(tagName, @\"[^A-Za-z0-9]\", \"\"));\n",
    "\n",
    "        var tagDirs = MetadataExtractor.ImageMetadataReader.ReadMetadata(file.FullName);\n",
    "        var tags = tagDirs.SelectMany(dir => dir.Tags.Where(tag => !string.IsNullOrEmpty(tag.Description)).Select(tag => new KeyValuePair<string, object>(toPropertyName(dir.Name, tag.Name), tag.Description)));\n",
    "        metadata = metadata.Concat(tags).ToDictionary(kvp => kvp.Key, kvp => kvp.Value);\n",
    "    }\n",
    "    catch {\n",
    "        // Ignore errors in metadata extraction\n",
    "    }\n",
    "\n",
    "    // Add action to insert or update the metadata in Azure Table Storage\n",
    "    var entity = new TableEntity(metadata);\n",
    "    batch.Add(new TableTransactionAction(TableTransactionActionType.UpsertMerge, entity));\n",
    "    itemCount++;\n",
    "}\n",
    "\n",
    "// Submit last batch\n",
    "Console.WriteLine();\n",
    "Console.Write($\"Submitting batch of {batch.Count} items...\");\n",
    "await tableClient.SubmitTransactionAsync(batch);\n",
    "batch.Clear();\n",
    "Console.WriteLine(\"OK\");\n",
    "batchCount++;\n",
    "\n",
    "Console.WriteLine($\"Processed {itemCount} items in {batchCount} batches.\");"
   ]
  },
  {
   "cell_type": "markdown",
   "id": "716b8f9f",
   "metadata": {},
   "source": [
    "# Retrieve data"
   ]
  },
  {
   "cell_type": "markdown",
   "id": "778482f2",
   "metadata": {},
   "source": [
    "Define function that will retrieve record from the table. \n",
    "\n",
    "If we would know the record type in advance, we can directly cast to that type when calling the `GetEntityIfExistsAsync<T>` method. We don't know until we read the `RecordType` property, so we have to use the base `TableEntity` type. We then have to manually construct the appropriate type and will its properties."
   ]
  },
  {
   "cell_type": "code",
   "execution_count": 124,
   "id": "ecc1d3b1",
   "metadata": {
    "language_info": {
     "name": "polyglot-notebook"
    },
    "polyglot_notebook": {
     "kernelName": "csharp"
    }
   },
   "outputs": [],
   "source": [
    "async Task DisplayMetadata(string fileName) {\n",
    "    var partitionKey = GetMD5Hash(Path.GetDirectoryName(fileName) ?? string.Empty);\n",
    "    var rowKey = GetMD5Hash(Path.GetFileName(fileName) ?? string.Empty);\n",
    "\n",
    "    Console.WriteLine($\"Retrieving entity with PartitionKey: {partitionKey}, RowKey: {rowKey}\");\n",
    "\n",
    "    var entityResponse = await tableClient.GetEntityIfExistsAsync<TableEntity>(partitionKey, rowKey);\n",
    "    if (entityResponse.HasValue) {\n",
    "        var entity = entityResponse.Value;\n",
    "        entity.Display();\n",
    "    } else {\n",
    "        Console.WriteLine(\"Entity not found.\");\n",
    "    }\n",
    "}"
   ]
  },
  {
   "cell_type": "markdown",
   "id": "96fc0398",
   "metadata": {},
   "source": [
    "Try to retrieve non-existent record:"
   ]
  },
  {
   "cell_type": "code",
   "execution_count": 125,
   "id": "7e89a07e",
   "metadata": {
    "language_info": {
     "name": "polyglot-notebook"
    },
    "polyglot_notebook": {
     "kernelName": "csharp"
    }
   },
   "outputs": [
    {
     "name": "stdout",
     "output_type": "stream",
     "text": [
      "Retrieving entity with PartitionKey: f102dad1a9aa6d66b0bb60bad230f962, RowKey: e0c3486987e432b4bdd1d966459b5fb1\n",
      "Entity not found.\n"
     ]
    }
   ],
   "source": [
    "await DisplayMetadata(@\"D:\\OneDrive-Altairis\\VideoProduction\\Z-TECH\\Main-2025\\src\\08\\06-AzureQueues\\none.txt\");"
   ]
  },
  {
   "cell_type": "markdown",
   "id": "d043b59b",
   "metadata": {},
   "source": [
    "Retrieve non-image file with common metadata only:"
   ]
  },
  {
   "cell_type": "code",
   "execution_count": 126,
   "id": "e0c52cfa",
   "metadata": {
    "language_info": {
     "name": "polyglot-notebook"
    },
    "polyglot_notebook": {
     "kernelName": "csharp"
    }
   },
   "outputs": [
    {
     "name": "stdout",
     "output_type": "stream",
     "text": [
      "Retrieving entity with PartitionKey: f102dad1a9aa6d66b0bb60bad230f962, RowKey: 06dc0bfdd9942dcf35f4efe7dbdcf110\r\n"
     ]
    },
    {
     "data": {
      "text/html": [
       "<table><thead><tr><th><i>key</i></th><th><i>type</i></th><th>value</th></tr></thead><tbody><tr><td><div class=\"dni-plaintext\"><pre>odata.etag</pre></div></td><td><span><a href=\"https://docs.microsoft.com/dotnet/api/system.string?view=net-7.0\">System.String</a></span></td><td><div class=\"dni-plaintext\"><pre>W/&quot;datetime&#39;2025-08-22T15%3A18%3A13.8488137Z&#39;&quot;</pre></div></td></tr><tr><td><div class=\"dni-plaintext\"><pre>PartitionKey</pre></div></td><td><span><a href=\"https://docs.microsoft.com/dotnet/api/system.string?view=net-7.0\">System.String</a></span></td><td><div class=\"dni-plaintext\"><pre>f102dad1a9aa6d66b0bb60bad230f962</pre></div></td></tr><tr><td><div class=\"dni-plaintext\"><pre>RowKey</pre></div></td><td><span><a href=\"https://docs.microsoft.com/dotnet/api/system.string?view=net-7.0\">System.String</a></span></td><td><div class=\"dni-plaintext\"><pre>06dc0bfdd9942dcf35f4efe7dbdcf110</pre></div></td></tr><tr><td><div class=\"dni-plaintext\"><pre>Timestamp</pre></div></td><td><span><a href=\"https://docs.microsoft.com/dotnet/api/system.datetimeoffset?view=net-7.0\">System.DateTimeOffset</a></span></td><td><span>2025-08-22 15:18:13Z</span></td></tr><tr><td><div class=\"dni-plaintext\"><pre>OriginalFileName</pre></div></td><td><span><a href=\"https://docs.microsoft.com/dotnet/api/system.string?view=net-7.0\">System.String</a></span></td><td><div class=\"dni-plaintext\"><pre>D:\\OneDrive-Altairis\\VideoProduction\\Z-TECH\\Main-2025\\src\\08\\06-AzureQueues\\intro.mp4</pre></div></td></tr><tr><td><div class=\"dni-plaintext\"><pre>Size</pre></div></td><td><span><a href=\"https://docs.microsoft.com/dotnet/api/system.int64?view=net-7.0\">System.Int64</a></span></td><td><div class=\"dni-plaintext\"><pre>9008211</pre></div></td></tr></tbody></table><style>\r\n",
       ".dni-code-hint {\r\n",
       "    font-style: italic;\r\n",
       "    overflow: hidden;\r\n",
       "    white-space: nowrap;\r\n",
       "}\r\n",
       ".dni-treeview {\r\n",
       "    white-space: nowrap;\r\n",
       "}\r\n",
       ".dni-treeview td {\r\n",
       "    vertical-align: top;\r\n",
       "    text-align: start;\r\n",
       "}\r\n",
       "details.dni-treeview {\r\n",
       "    padding-left: 1em;\r\n",
       "}\r\n",
       "table td {\r\n",
       "    text-align: start;\r\n",
       "}\r\n",
       "table tr { \r\n",
       "    vertical-align: top; \r\n",
       "    margin: 0em 0px;\r\n",
       "}\r\n",
       "table tr td pre \r\n",
       "{ \r\n",
       "    vertical-align: top !important; \r\n",
       "    margin: 0em 0px !important;\r\n",
       "} \r\n",
       "table th {\r\n",
       "    text-align: start;\r\n",
       "}\r\n",
       "</style>"
      ]
     },
     "metadata": {},
     "output_type": "display_data"
    }
   ],
   "source": [
    "await DisplayMetadata(@\"D:\\OneDrive-Altairis\\VideoProduction\\Z-TECH\\Main-2025\\src\\08\\06-AzureQueues\\intro.mp4\");"
   ]
  },
  {
   "cell_type": "markdown",
   "id": "22adfbf5",
   "metadata": {},
   "source": [
    "Retrieve image file:"
   ]
  },
  {
   "cell_type": "code",
   "execution_count": 127,
   "id": "d61c346c",
   "metadata": {
    "language_info": {
     "name": "polyglot-notebook"
    },
    "polyglot_notebook": {
     "kernelName": "csharp"
    }
   },
   "outputs": [
    {
     "name": "stdout",
     "output_type": "stream",
     "text": [
      "Retrieving entity with PartitionKey: f102dad1a9aa6d66b0bb60bad230f962, RowKey: 209f183beee89ddd16447e0c54187d8c\r\n"
     ]
    },
    {
     "data": {
      "text/html": [
       "<table><thead><tr><th><i>key</i></th><th><i>type</i></th><th>value</th></tr></thead><tbody><tr><td><div class=\"dni-plaintext\"><pre>odata.etag</pre></div></td><td><span><a href=\"https://docs.microsoft.com/dotnet/api/system.string?view=net-7.0\">System.String</a></span></td><td><div class=\"dni-plaintext\"><pre>W/&quot;datetime&#39;2025-08-22T15%3A18%3A13.8478182Z&#39;&quot;</pre></div></td></tr><tr><td><div class=\"dni-plaintext\"><pre>PartitionKey</pre></div></td><td><span><a href=\"https://docs.microsoft.com/dotnet/api/system.string?view=net-7.0\">System.String</a></span></td><td><div class=\"dni-plaintext\"><pre>f102dad1a9aa6d66b0bb60bad230f962</pre></div></td></tr><tr><td><div class=\"dni-plaintext\"><pre>RowKey</pre></div></td><td><span><a href=\"https://docs.microsoft.com/dotnet/api/system.string?view=net-7.0\">System.String</a></span></td><td><div class=\"dni-plaintext\"><pre>209f183beee89ddd16447e0c54187d8c</pre></div></td></tr><tr><td><div class=\"dni-plaintext\"><pre>Timestamp</pre></div></td><td><span><a href=\"https://docs.microsoft.com/dotnet/api/system.datetimeoffset?view=net-7.0\">System.DateTimeOffset</a></span></td><td><span>2025-08-22 15:18:13Z</span></td></tr><tr><td><div class=\"dni-plaintext\"><pre>ExifIFD0_DateTime</pre></div></td><td><span><a href=\"https://docs.microsoft.com/dotnet/api/system.string?view=net-7.0\">System.String</a></span></td><td><div class=\"dni-plaintext\"><pre>2025:08:21 21:45:31</pre></div></td></tr><tr><td><div class=\"dni-plaintext\"><pre>ExifIFD0_ImageHeight</pre></div></td><td><span><a href=\"https://docs.microsoft.com/dotnet/api/system.string?view=net-7.0\">System.String</a></span></td><td><div class=\"dni-plaintext\"><pre>1800 pixels</pre></div></td></tr><tr><td><div class=\"dni-plaintext\"><pre>ExifIFD0_ImageWidth</pre></div></td><td><span><a href=\"https://docs.microsoft.com/dotnet/api/system.string?view=net-7.0\">System.String</a></span></td><td><div class=\"dni-plaintext\"><pre>4000 pixels</pre></div></td></tr><tr><td><div class=\"dni-plaintext\"><pre>ExifIFD0_Make</pre></div></td><td><span><a href=\"https://docs.microsoft.com/dotnet/api/system.string?view=net-7.0\">System.String</a></span></td><td><div class=\"dni-plaintext\"><pre>motorola</pre></div></td></tr><tr><td><div class=\"dni-plaintext\"><pre>ExifIFD0_Model</pre></div></td><td><span><a href=\"https://docs.microsoft.com/dotnet/api/system.string?view=net-7.0\">System.String</a></span></td><td><div class=\"dni-plaintext\"><pre>motorola edge 20 lite</pre></div></td></tr><tr><td><div class=\"dni-plaintext\"><pre>ExifIFD0_Orientation</pre></div></td><td><span><a href=\"https://docs.microsoft.com/dotnet/api/system.string?view=net-7.0\">System.String</a></span></td><td><div class=\"dni-plaintext\"><pre>Top, left side (Horizontal / normal)</pre></div></td></tr><tr><td><div class=\"dni-plaintext\"><pre>ExifIFD0_ResolutionUnit</pre></div></td><td><span><a href=\"https://docs.microsoft.com/dotnet/api/system.string?view=net-7.0\">System.String</a></span></td><td><div class=\"dni-plaintext\"><pre>Inch</pre></div></td></tr><tr><td><div class=\"dni-plaintext\"><pre>ExifIFD0_Unknowntag0x0220</pre></div></td><td><span><a href=\"https://docs.microsoft.com/dotnet/api/system.string?view=net-7.0\">System.String</a></span></td><td><div class=\"dni-plaintext\"><pre>0</pre></div></td></tr><tr><td><div class=\"dni-plaintext\"><pre>ExifIFD0_Unknowntag0x0221</pre></div></td><td><span><a href=\"https://docs.microsoft.com/dotnet/api/system.string?view=net-7.0\">System.String</a></span></td><td><div class=\"dni-plaintext\"><pre>0</pre></div></td></tr><tr><td><div class=\"dni-plaintext\"><pre>ExifIFD0_Unknowntag0x0222</pre></div></td><td><span><a href=\"https://docs.microsoft.com/dotnet/api/system.string?view=net-7.0\">System.String</a></span></td><td><div class=\"dni-plaintext\"><pre>0</pre></div></td></tr><tr><td><div class=\"dni-plaintext\"><pre>ExifIFD0_Unknowntag0x0223</pre></div></td><td><span><a href=\"https://docs.microsoft.com/dotnet/api/system.string?view=net-7.0\">System.String</a></span></td><td><div class=\"dni-plaintext\"><pre>0</pre></div></td></tr><tr><td><div class=\"dni-plaintext\"><pre>ExifIFD0_Unknowntag0x0224</pre></div></td><td><span><a href=\"https://docs.microsoft.com/dotnet/api/system.string?view=net-7.0\">System.String</a></span></td><td><div class=\"dni-plaintext\"><pre>0</pre></div></td></tr><tr><td><div class=\"dni-plaintext\"><pre>ExifIFD0_XResolution</pre></div></td><td><span><a href=\"https://docs.microsoft.com/dotnet/api/system.string?view=net-7.0\">System.String</a></span></td><td><div class=\"dni-plaintext\"><pre>72 dots per inch</pre></div></td></tr><tr><td><div class=\"dni-plaintext\"><pre>ExifIFD0_YCbCrPositioning</pre></div></td><td><span><a href=\"https://docs.microsoft.com/dotnet/api/system.string?view=net-7.0\">System.String</a></span></td><td><div class=\"dni-plaintext\"><pre>Datum point</pre></div></td></tr><tr><td><div class=\"dni-plaintext\"><pre>ExifIFD0_YResolution</pre></div></td><td><span><a href=\"https://docs.microsoft.com/dotnet/api/system.string?view=net-7.0\">System.String</a></span></td><td><div class=\"dni-plaintext\"><pre>72 dots per inch</pre></div></td></tr><tr><td><div class=\"dni-plaintext\"><pre>ExifSubIFD_ApertureValue</pre></div></td><td><span><a href=\"https://docs.microsoft.com/dotnet/api/system.string?view=net-7.0\">System.String</a></span></td><td><div class=\"dni-plaintext\"><pre>f/1.9</pre></div></td></tr><tr><td colspan=\"3\"><i>... (more)</i></td></tr></tbody></table><style>\r\n",
       ".dni-code-hint {\r\n",
       "    font-style: italic;\r\n",
       "    overflow: hidden;\r\n",
       "    white-space: nowrap;\r\n",
       "}\r\n",
       ".dni-treeview {\r\n",
       "    white-space: nowrap;\r\n",
       "}\r\n",
       ".dni-treeview td {\r\n",
       "    vertical-align: top;\r\n",
       "    text-align: start;\r\n",
       "}\r\n",
       "details.dni-treeview {\r\n",
       "    padding-left: 1em;\r\n",
       "}\r\n",
       "table td {\r\n",
       "    text-align: start;\r\n",
       "}\r\n",
       "table tr { \r\n",
       "    vertical-align: top; \r\n",
       "    margin: 0em 0px;\r\n",
       "}\r\n",
       "table tr td pre \r\n",
       "{ \r\n",
       "    vertical-align: top !important; \r\n",
       "    margin: 0em 0px !important;\r\n",
       "} \r\n",
       "table th {\r\n",
       "    text-align: start;\r\n",
       "}\r\n",
       "</style>"
      ]
     },
     "metadata": {},
     "output_type": "display_data"
    }
   ],
   "source": [
    "await DisplayMetadata(@\"D:\\OneDrive-Altairis\\VideoProduction\\Z-TECH\\Main-2025\\src\\08\\06-AzureQueues\\IMG_20250821_214530323.jpg\");"
   ]
  },
  {
   "cell_type": "markdown",
   "id": "ff75860e",
   "metadata": {},
   "source": [
    "## Cleanup"
   ]
  },
  {
   "cell_type": "code",
   "execution_count": 128,
   "id": "c94fc43b",
   "metadata": {
    "language_info": {
     "name": "polyglot-notebook"
    },
    "polyglot_notebook": {
     "kernelName": "csharp"
    }
   },
   "outputs": [
    {
     "name": "stdout",
     "output_type": "stream",
     "text": [
      "Deleting Azure Table Storage table...OK\n"
     ]
    }
   ],
   "source": [
    "Console.Write(\"Deleting Azure Table Storage table...\");\n",
    "await tableClient.DeleteAsync();\n",
    "Console.WriteLine(\"OK\");"
   ]
  }
 ],
 "metadata": {
  "kernelspec": {
   "display_name": ".NET (C#)",
   "language": "C#",
   "name": ".net-csharp"
  },
  "language_info": {
   "name": "polyglot-notebook"
  },
  "polyglot_notebook": {
   "kernelInfo": {
    "defaultKernelName": "csharp",
    "items": [
     {
      "aliases": [],
      "languageName": "csharp",
      "name": "csharp"
     }
    ]
   }
  }
 },
 "nbformat": 4,
 "nbformat_minor": 5
}

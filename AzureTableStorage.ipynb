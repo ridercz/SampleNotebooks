{
 "cells": [
  {
   "cell_type": "markdown",
   "id": "bbc101d5",
   "metadata": {},
   "source": [
    "# Using Azure Table Storage"
   ]
  },
  {
   "cell_type": "markdown",
   "id": "25e8f9d9",
   "metadata": {},
   "source": [
    "## Preparation\n",
    "\n",
    "Include necessary packages:"
   ]
  },
  {
   "cell_type": "code",
   "execution_count": 1,
   "id": "54af104f",
   "metadata": {
    "language_info": {
     "name": "polyglot-notebook"
    },
    "polyglot_notebook": {
     "kernelName": "csharp"
    }
   },
   "outputs": [
    {
     "data": {
      "text/html": [
       "<div><div></div><div></div><div><strong>Installed Packages</strong><ul><li><span>Azure.Data.Tables, 12.11.0</span></li><li><span>MetadataExtractor, 2.8.1</span></li></ul></div></div>"
      ]
     },
     "metadata": {},
     "output_type": "display_data"
    }
   ],
   "source": [
    "#r \"nuget: Azure.Data.Tables\"\n",
    "#r \"nuget: MetadataExtractor\""
   ]
  },
  {
   "cell_type": "markdown",
   "id": "18610f43",
   "metadata": {},
   "source": [
    "Define some constants we would need later:"
   ]
  },
  {
   "cell_type": "code",
   "execution_count": null,
   "id": "4626995c",
   "metadata": {
    "language_info": {
     "name": "polyglot-notebook"
    },
    "polyglot_notebook": {
     "kernelName": "csharp"
    }
   },
   "outputs": [],
   "source": [
    "const string AzureConnectionString = \"DefaultEndpointsProtocol=https;AccountName=ztechtest;AccountKey=XXX;EndpointSuffix=core.windows.net\";\n",
    "const string AzureTableName = \"files\";\n",
    "const string RootFolderName = @\"D:\\OneDrive-Altairis\\VideoProduction\\Z-TECH\\Main-2025\";\n",
    "var ImageFileExtensions = new[] { \".jpg\", \".jpeg\" };"
   ]
  },
  {
   "cell_type": "markdown",
   "id": "93df5999",
   "metadata": {},
   "source": [
    "Import namespaces:"
   ]
  },
  {
   "cell_type": "code",
   "execution_count": 3,
   "id": "2038d4fd",
   "metadata": {
    "language_info": {
     "name": "polyglot-notebook"
    },
    "polyglot_notebook": {
     "kernelName": "csharp"
    }
   },
   "outputs": [],
   "source": [
    "using Azure;\n",
    "using Azure.Data.Tables;\n",
    "using System.IO;"
   ]
  },
  {
   "cell_type": "markdown",
   "id": "1c59dc77",
   "metadata": {},
   "source": [
    "## Data structures\n",
    "\n",
    "The entities have to implement `ITableEntity` interface, which contains required properties. Let's define `FileMetadata` class containing properties common for all file types:"
   ]
  },
  {
   "cell_type": "code",
   "execution_count": 4,
   "id": "04930841",
   "metadata": {
    "language_info": {
     "name": "polyglot-notebook"
    },
    "polyglot_notebook": {
     "kernelName": "csharp"
    }
   },
   "outputs": [],
   "source": [
    "public class FileMetadata : ITableEntity {\n",
    "\n",
    "    // Properties required for Azure Table Storage\n",
    "\n",
    "    public required string PartitionKey { get; set; }\n",
    "\n",
    "    public required string RowKey { get; set; }\n",
    "\n",
    "    public DateTimeOffset? Timestamp { get; set; }\n",
    "    \n",
    "    public ETag ETag { get; set; }\n",
    "\n",
    "    // Record type discriminator\n",
    "\n",
    "    public virtual string RecordType => nameof(FileMetadata);\n",
    "\n",
    "    // Common properties for all file types\n",
    "\n",
    "    public required string OriginalFileName { get; set; } \n",
    "\n",
    "    public required long Size { get; set; }\n",
    "    \n",
    "}"
   ]
  },
  {
   "cell_type": "markdown",
   "id": "63dd6e51",
   "metadata": {},
   "source": [
    "Now define `ImageFileMetadata` class, which is derived from `FileMetadata` and adds some image-specific properties:"
   ]
  },
  {
   "cell_type": "code",
   "execution_count": 5,
   "id": "ad3b621c",
   "metadata": {
    "language_info": {
     "name": "polyglot-notebook"
    },
    "polyglot_notebook": {
     "kernelName": "csharp"
    }
   },
   "outputs": [],
   "source": [
    "#nullable enable\n",
    "\n",
    "public class ImageFileMetadata : FileMetadata {\n",
    "\n",
    "    // Record type discriminator \n",
    "\n",
    "    public override string RecordType => nameof(ImageFileMetadata);\n",
    "\n",
    "    // Properties specific to image files\n",
    "\n",
    "    public int Width { get; set; }\n",
    "\n",
    "    public int Height { get; set; }\n",
    "\n",
    "    public string? CameraModel { get; set; }\n",
    "\n",
    "    public string? ExposureTime { get; set; }\n",
    "\n",
    "    public string? FNumber { get; set; } // Aperture value\n",
    "\n",
    "    public string? Iso { get; set; }\n",
    "\n",
    "}"
   ]
  },
  {
   "cell_type": "markdown",
   "id": "4add6499",
   "metadata": {},
   "source": [
    "## Helper functions"
   ]
  },
  {
   "cell_type": "markdown",
   "id": "49c11f0d",
   "metadata": {},
   "source": [
    "This function will compute MD5 hash of given string. We will use hashes for partition and row keys (instead of the raw data), because keys have limited lengths (1024 chars) and cannot contain some special characters. So to play it safe, it's generally a good idea to use hashes. We can safely use MD5, because collision attacks are not relevant for this scenario and MD5 is fast, cheap and short."
   ]
  },
  {
   "cell_type": "code",
   "execution_count": 6,
   "id": "092a9bc0",
   "metadata": {
    "language_info": {
     "name": "polyglot-notebook"
    },
    "polyglot_notebook": {
     "kernelName": "csharp"
    }
   },
   "outputs": [],
   "source": [
    "static string GetMD5Hash(string s) {\n",
    "    var inputBytes = System.Text.Encoding.UTF8.GetBytes(s);\n",
    "    var hashBytes = System.Security.Cryptography.MD5.HashData(inputBytes);\n",
    "    return Convert.ToHexStringLower(hashBytes);\n",
    "}"
   ]
  },
  {
   "cell_type": "markdown",
   "id": "c65489fd",
   "metadata": {},
   "source": [
    "This function will load metadata from generic file:"
   ]
  },
  {
   "cell_type": "code",
   "execution_count": 7,
   "id": "0b59800f",
   "metadata": {
    "language_info": {
     "name": "polyglot-notebook"
    },
    "polyglot_notebook": {
     "kernelName": "csharp"
    }
   },
   "outputs": [],
   "source": [
    "static FileMetadata ProcessOtherFile(FileInfo file, string partitionKey) => new() {\n",
    "    PartitionKey = partitionKey,\n",
    "    RowKey = GetMD5Hash(file.Name),\n",
    "    OriginalFileName = file.FullName,\n",
    "    Size = file.Length\n",
    "};"
   ]
  },
  {
   "cell_type": "markdown",
   "id": "c73d4329",
   "metadata": {},
   "source": [
    "This function will load metadata from image file:"
   ]
  },
  {
   "cell_type": "code",
   "execution_count": 8,
   "id": "f7f40601",
   "metadata": {
    "language_info": {
     "name": "polyglot-notebook"
    },
    "polyglot_notebook": {
     "kernelName": "csharp"
    }
   },
   "outputs": [],
   "source": [
    "static FileMetadata ProcessImageFile(FileInfo file, string partitionKey) {\n",
    "    // Fill in common metadata first\n",
    "    var metadata = new ImageFileMetadata {\n",
    "        PartitionKey = partitionKey,\n",
    "        RowKey = GetMD5Hash(file.Name),\n",
    "        OriginalFileName = file.FullName,\n",
    "        Size = file.Length\n",
    "    };\n",
    "\n",
    "    // Read metadata using the MetdataExtractor library\n",
    "    var tagDirs = MetadataExtractor.ImageMetadataReader.ReadMetadata(file.FullName);\n",
    "    var tags = tagDirs.SelectMany(dir => dir.Tags.Select(tag => new {\n",
    "        Directory = dir.Name,\n",
    "        Tag = tag.Name,\n",
    "        Value = tag.Description\n",
    "    }));\n",
    "\n",
    "    // Extract image specific metadata properties\n",
    "    var widthString = tags.FirstOrDefault(t => t.Directory == \"JPEG\" && t.Tag == \"Image Width\")?.Value ?? \"0 pixels\";\n",
    "    var heightString = tags.FirstOrDefault(t => t.Directory == \"JPEG\" && t.Tag == \"Image Height\")?.Value ?? \"0 pixels\";\n",
    "    metadata.Width = int.TryParse(widthString.Split(' ')[0], out var width) ? width : 0;\n",
    "    metadata.Height = int.TryParse(heightString.Split(' ')[0], out var height) ? height : 0;\n",
    "    metadata.CameraModel = tags.FirstOrDefault(t => t.Directory == \"Exif IFD0\" && t.Tag == \"Model\")?.Value;\n",
    "    metadata.ExposureTime = tags.FirstOrDefault(t => t.Directory == \"Exif SubIFD\" && t.Tag == \"Exposure Time\")?.Value;\n",
    "    metadata.FNumber = tags.FirstOrDefault(t => t.Directory == \"Exif SubIFD\" && t.Tag == \"F-Number\")?.Value;\n",
    "    metadata.Iso = tags.FirstOrDefault(t => t.Directory == \"Exif SubIFD\" && t.Tag == \"ISO Speed Ratings\")?.Value;\n",
    "\n",
    "    return metadata;\n",
    "}"
   ]
  },
  {
   "cell_type": "markdown",
   "id": "d12f69c0",
   "metadata": {},
   "source": [
    "## Insert Data"
   ]
  },
  {
   "cell_type": "markdown",
   "id": "5b0dae56",
   "metadata": {},
   "source": [
    "Create table client and ensure table exists:"
   ]
  },
  {
   "cell_type": "code",
   "execution_count": 9,
   "id": "26d70efd",
   "metadata": {
    "language_info": {
     "name": "polyglot-notebook"
    },
    "polyglot_notebook": {
     "kernelName": "csharp"
    }
   },
   "outputs": [
    {
     "name": "stdout",
     "output_type": "stream",
     "text": [
      "Initializing Azure Table Storage client...OK\n"
     ]
    }
   ],
   "source": [
    "Console.Write(\"Initializing Azure Table Storage client...\");\n",
    "\n",
    "// Create TableServiceClient\n",
    "var serviceClient = new TableServiceClient(AzureConnectionString);\n",
    "\n",
    "// Create TableClient for the specified table\n",
    "var tableClient = serviceClient.GetTableClient(AzureTableName);\n",
    "\n",
    "// Ensure the table exists\n",
    "await tableClient.CreateIfNotExistsAsync();\n",
    "\n",
    "Console.WriteLine(\"OK\");"
   ]
  },
  {
   "cell_type": "markdown",
   "id": "5c67882d",
   "metadata": {},
   "source": [
    "Get metadata for all files and insert them into table storage. We will insert the data in batches, to speed the process up and make it cheaper. We are billed per transaction and therefore using batches is cheaper. It also lowers the number of HTTP requests we have to do.\n",
    "\n",
    "There are two limitations to batches:\n",
    "* Batch can contain up to 100 operations.\n",
    "* All operations must be over the same partition."
   ]
  },
  {
   "cell_type": "code",
   "execution_count": 10,
   "id": "bb7f104f",
   "metadata": {
    "language_info": {
     "name": "polyglot-notebook"
    },
    "polyglot_notebook": {
     "kernelName": "csharp"
    }
   },
   "outputs": [
    {
     "name": "stdout",
     "output_type": "stream",
     "text": [
      "Processing folder D:\\OneDrive-Altairis\\VideoProduction\\Z-TECH\\Main-2025\\out\\01 (PK: 8a7c8a6bb0d5a2d00e4161570b867b3a):................\n",
      "Submitting batch of 16 items...OK\n",
      "Processing folder D:\\OneDrive-Altairis\\VideoProduction\\Z-TECH\\Main-2025\\out\\02 (PK: c8abf999a2c820f78645767c56974682):.................\n",
      "Submitting batch of 17 items...OK\n",
      "Processing folder D:\\OneDrive-Altairis\\VideoProduction\\Z-TECH\\Main-2025\\out\\03 (PK: 4b239175b95bef714cbca491dbb39316):..............\n",
      "Submitting batch of 14 items...OK\n",
      "Processing folder D:\\OneDrive-Altairis\\VideoProduction\\Z-TECH\\Main-2025\\out\\04 (PK: dc95a4b21c8c26332eb1147f8167f2be):................\n",
      "Submitting batch of 16 items...OK\n",
      "Processing folder D:\\OneDrive-Altairis\\VideoProduction\\Z-TECH\\Main-2025\\out\\05 (PK: 74cefd8231976f397f67c5473bf99494):................\n",
      "Submitting batch of 16 items...OK\n",
      "Processing folder D:\\OneDrive-Altairis\\VideoProduction\\Z-TECH\\Main-2025\\out\\06 (PK: 0a7b66c2dcbfc7ce112afee4d9087844):...............\n",
      "Submitting batch of 15 items...OK\n",
      "Processing folder D:\\OneDrive-Altairis\\VideoProduction\\Z-TECH\\Main-2025\\out\\07 (PK: 6e2c9acf490dae64d63d7417ef735dcf):.................\n",
      "Submitting batch of 17 items...OK\n",
      "Processing folder D:\\OneDrive-Altairis\\VideoProduction\\Z-TECH\\Main-2025\\out\\08 (PK: 7e69c2f4ad5de2fe6151366458bc26a0):...........\n",
      "Submitting batch of 11 items...OK\n",
      "Processing folder D:\\OneDrive-Altairis\\VideoProduction\\Z-TECH\\Main-2025\\src\\01\\01-M5Stack-UiFlowProg (PK: c5d75405f5b80f595a001071a67ba2cb):.............\n",
      "Submitting batch of 13 items...OK\n",
      "Processing folder D:\\OneDrive-Altairis\\VideoProduction\\Z-TECH\\Main-2025\\src\\01\\02-PowerAutomate-Intro (PK: 9d69f3af8947c21055bcfce6fd34a904):..........\n",
      "Submitting batch of 10 items...OK\n",
      "Processing folder D:\\OneDrive-Altairis\\VideoProduction\\Z-TECH\\Main-2025\\src\\01\\03-M5Stack-ArduinoIDE (PK: fb944e91d7e7bfdcb7912b5c45e61129):........\n",
      "Submitting batch of 8 items...OK\n",
      "Processing folder D:\\OneDrive-Altairis\\VideoProduction\\Z-TECH\\Main-2025\\src\\01\\04-PlatformIO-Envs (PK: 6c0f37b75dd274378b43851b76c16818):........\n",
      "Submitting batch of 8 items...OK\n",
      "Processing folder D:\\OneDrive-Altairis\\VideoProduction\\Z-TECH\\Main-2025\\src\\01\\05-M5Stack-ArduinoProg (PK: 5afac800e96ed3e334b038bda1f7f9b5):........\n",
      "Submitting batch of 8 items...OK\n",
      "Processing folder D:\\OneDrive-Altairis\\VideoProduction\\Z-TECH\\Main-2025\\src\\01\\06-ProcessIO (PK: 1739859976a05d924823e5be7ecdf7f8):.......\n",
      "Submitting batch of 7 items...OK\n",
      "Processing folder D:\\OneDrive-Altairis\\VideoProduction\\Z-TECH\\Main-2025\\src\\01\\07-Tails (PK: 81b1b1628d6609365c5292039116f0c3):.......\n",
      "Submitting batch of 7 items...OK\n",
      "Processing folder D:\\OneDrive-Altairis\\VideoProduction\\Z-TECH\\Main-2025\\src\\01\\08-Ollama-DeepSeek (PK: 4dd43b62222e1e89d3e0b788bbeae9bc):...........\n",
      "Submitting batch of 11 items...OK\n",
      "Processing folder D:\\OneDrive-Altairis\\VideoProduction\\Z-TECH\\Main-2025\\src\\02\\01-Anonymity (PK: 48c3ca63b812566231d7489a71d41eac):......\n",
      "Submitting batch of 6 items...OK\n",
      "Processing folder D:\\OneDrive-Altairis\\VideoProduction\\Z-TECH\\Main-2025\\src\\02\\02-DeepSeekAgain (PK: e3078ec40d960c6c5da1c63ab3bafa63):........\n",
      "Submitting batch of 8 items...OK\n",
      "Processing folder D:\\OneDrive-Altairis\\VideoProduction\\Z-TECH\\Main-2025\\src\\02\\03-HierarchyId-TSQL (PK: ec9e6f1409daa38c310d1221eb264c7d):.........\n",
      "Submitting batch of 9 items...OK\n",
      "Processing folder D:\\OneDrive-Altairis\\VideoProduction\\Z-TECH\\Main-2025\\src\\02\\04-HierarchyId-EF (PK: d53f91f8b52db0728f88c9350e8f3f77):.........\n",
      "Submitting batch of 9 items...OK\n",
      "Processing folder D:\\OneDrive-Altairis\\VideoProduction\\Z-TECH\\Main-2025\\src\\02\\05-Spatial-TSQL (PK: 0d171f0df4bc4f76633028ddde508b1b):.....\n",
      "Submitting batch of 5 items...OK\n",
      "Processing folder D:\\OneDrive-Altairis\\VideoProduction\\Z-TECH\\Main-2025\\src\\02\\05-Spatial-TSQL\\code (PK: 9ab7e1f0328023a6240880200fe962f6):..........\n",
      "Submitting batch of 10 items...OK\n",
      "Processing folder D:\\OneDrive-Altairis\\VideoProduction\\Z-TECH\\Main-2025\\src\\02\\05-Spatial-TSQL (PK: 0d171f0df4bc4f76633028ddde508b1b):..\n",
      "Submitting batch of 2 items...OK\n",
      "Processing folder D:\\OneDrive-Altairis\\VideoProduction\\Z-TECH\\Main-2025\\src\\02\\06-FactoryReset (PK: 0e09f90677c4bbeb6251d47a2b490a50):........\n",
      "Submitting batch of 8 items...OK\n",
      "Processing folder D:\\OneDrive-Altairis\\VideoProduction\\Z-TECH\\Main-2025\\src\\02\\07-ZonerAI (PK: d285d63492bb8914fc718f8aab27c30d):.........\n",
      "Submitting batch of 9 items...OK\n",
      "Processing folder D:\\OneDrive-Altairis\\VideoProduction\\Z-TECH\\Main-2025\\src\\02\\08-Spatial-EF (PK: f39f328b2ce4e2944b900aa3fa327e0d):........\n",
      "Submitting batch of 8 items...OK\n",
      "Processing folder D:\\OneDrive-Altairis\\VideoProduction\\Z-TECH\\Main-2025\\src\\03\\01-SparseColumns (PK: aa588dad9ba1d234a5ab6dd9a066e9e1):........\n",
      "Submitting batch of 8 items...OK\n",
      "Processing folder D:\\OneDrive-Altairis\\VideoProduction\\Z-TECH\\Main-2025\\src\\03\\02-ExpressBackup (PK: 24a6693f75fecac8725e32d767980c70):........\n",
      "Submitting batch of 8 items...OK\n",
      "Processing folder D:\\OneDrive-Altairis\\VideoProduction\\Z-TECH\\Main-2025\\src\\03\\03-ESP32 (PK: fc92a93abb3b5aa05b4c5eaf8351ee86):........\n",
      "Submitting batch of 8 items...OK\n",
      "Processing folder D:\\OneDrive-Altairis\\VideoProduction\\Z-TECH\\Main-2025\\src\\03\\04-Vnitro (PK: 57da05485b183b7af3bb7d738552b6cc):........\n",
      "Submitting batch of 8 items...OK\n",
      "Processing folder D:\\OneDrive-Altairis\\VideoProduction\\Z-TECH\\Main-2025\\src\\03\\05-MdDox (PK: de3596980c0a75d1744fc00be8166eb8):........\n",
      "Submitting batch of 8 items...OK\n",
      "Processing folder D:\\OneDrive-Altairis\\VideoProduction\\Z-TECH\\Main-2025\\src\\03\\06-VirtualPrintBeds (PK: 96cae86c6d0fc7082c0285ef10a8c855):.........\n",
      "Submitting batch of 9 items...OK\n",
      "Processing folder D:\\OneDrive-Altairis\\VideoProduction\\Z-TECH\\Main-2025\\src\\03\\07-Antiviry (PK: ffcd65fb08ea1010977abfd52a4dd259):........\n",
      "Submitting batch of 8 items...OK\n",
      "Processing folder D:\\OneDrive-Altairis\\VideoProduction\\Z-TECH\\Main-2025\\src\\04\\01-Signal (PK: 41c2b90961fef3f8f0fbcde48372a0e4):..............................\n",
      "Submitting batch of 30 items...OK\n",
      "Processing folder D:\\OneDrive-Altairis\\VideoProduction\\Z-TECH\\Main-2025\\src\\04\\02-Hash (PK: acdf7c65584c3891a298149b4417edfb):........\n",
      "Submitting batch of 8 items...OK\n",
      "Processing folder D:\\OneDrive-Altairis\\VideoProduction\\Z-TECH\\Main-2025\\src\\04\\03-HMAC (PK: d3c73a2afd326a32a248a1ac0e6ce78a):........\n",
      "Submitting batch of 8 items...OK\n",
      "Processing folder D:\\OneDrive-Altairis\\VideoProduction\\Z-TECH\\Main-2025\\src\\04\\04-HashInBrowser (PK: 69ecbaa0c1d2b5b34e2dc3d6fe433424):.....\n",
      "Submitting batch of 5 items...OK\n",
      "Processing folder D:\\OneDrive-Altairis\\VideoProduction\\Z-TECH\\Main-2025\\src\\04\\04-HashInBrowser\\demo (PK: 0da2d9b000c9b5a4f75072807cfbd86e):..\n",
      "Submitting batch of 2 items...OK\n",
      "Processing folder D:\\OneDrive-Altairis\\VideoProduction\\Z-TECH\\Main-2025\\src\\04\\04-HashInBrowser (PK: 69ecbaa0c1d2b5b34e2dc3d6fe433424):...\n",
      "Submitting batch of 3 items...OK\n",
      "Processing folder D:\\OneDrive-Altairis\\VideoProduction\\Z-TECH\\Main-2025\\src\\04\\05-CodePenFiddle (PK: 21d8d76297aad4221ec9bac277afda3a):........\n",
      "Submitting batch of 8 items...OK\n",
      "Processing folder D:\\OneDrive-Altairis\\VideoProduction\\Z-TECH\\Main-2025\\src\\04\\06-FakeSD (PK: 535b40a7c0c1024130eaadfff6aa7177):...........\n",
      "Submitting batch of 11 items...OK\n",
      "Processing folder D:\\OneDrive-Altairis\\VideoProduction\\Z-TECH\\Main-2025\\src\\04\\07-Certs (PK: 0d6d19ca32576f6965929fa9efe5aaaa):........\n",
      "Submitting batch of 8 items...OK\n",
      "Processing folder D:\\OneDrive-Altairis\\VideoProduction\\Z-TECH\\Main-2025\\src\\04\\08-Nozicky3D (PK: 87ef19f880163333b822eeeb4a052a61):............\n",
      "Submitting batch of 12 items...OK\n",
      "Processing folder D:\\OneDrive-Altairis\\VideoProduction\\Z-TECH\\Main-2025\\src\\05\\01-Diceware (PK: d3f54245f02d9964a9b02799d5f1a683):..........\n",
      "Submitting batch of 10 items...OK\n",
      "Processing folder D:\\OneDrive-Altairis\\VideoProduction\\Z-TECH\\Main-2025\\src\\05\\01-Diceware\\wordlists (PK: 928a16288098b053baba7fdeb8a0a80e):...\n",
      "Submitting batch of 3 items...OK\n",
      "Processing folder D:\\OneDrive-Altairis\\VideoProduction\\Z-TECH\\Main-2025\\src\\05\\02-Srouby (PK: ae689a84dbb3dc8975c1d2b829d362fa):............................\n",
      "Submitting batch of 28 items...OK\n",
      "Processing folder D:\\OneDrive-Altairis\\VideoProduction\\Z-TECH\\Main-2025\\src\\05\\02-Srouby\\slots (PK: e7c8d870c806b5857d5cba17ff68d58a):..................................\n",
      "Submitting batch of 34 items...OK\n",
      "Processing folder D:\\OneDrive-Altairis\\VideoProduction\\Z-TECH\\Main-2025\\src\\05\\02-Srouby (PK: ae689a84dbb3dc8975c1d2b829d362fa):............\n",
      "Submitting batch of 12 items...OK\n",
      "Processing folder D:\\OneDrive-Altairis\\VideoProduction\\Z-TECH\\Main-2025\\src\\05\\03-TeleMessage (PK: aeb93df7c4db555d6c583e4a07c9db05):..................\n",
      "Submitting batch of 18 items...OK\n",
      "Processing folder D:\\OneDrive-Altairis\\VideoProduction\\Z-TECH\\Main-2025\\src\\05\\04-AssignedAccess (PK: 44e7f26ef8e5acdb273241bcf63914c8):........\n",
      "Submitting batch of 8 items...OK\n",
      "Processing folder D:\\OneDrive-Altairis\\VideoProduction\\Z-TECH\\Main-2025\\src\\05\\05-Dokonaly (PK: 96f0537e9dd31a0f93d001d5ee2e6323):......\n",
      "Submitting batch of 6 items...OK\n",
      "Processing folder D:\\OneDrive-Altairis\\VideoProduction\\Z-TECH\\Main-2025\\src\\05\\06-GDPR (PK: 3070f733997312e6d58f78bece8108e3):......\n",
      "Submitting batch of 6 items...OK\n",
      "Processing folder D:\\OneDrive-Altairis\\VideoProduction\\Z-TECH\\Main-2025\\src\\05\\07-Geolocation (PK: ca28a61a6d50d4155e0a0720c7c3e45e):.........\n",
      "Submitting batch of 9 items...OK\n",
      "Processing folder D:\\OneDrive-Altairis\\VideoProduction\\Z-TECH\\Main-2025\\src\\05\\08-Falta (PK: 276640e16356e437266addcb5919a53d):................\n",
      "Submitting batch of 16 items...OK\n",
      "Processing folder D:\\OneDrive-Altairis\\VideoProduction\\Z-TECH\\Main-2025\\src\\06\\01-SemanticHTML (PK: f82f3dcde8987f5761d50f9b4623291d):.........\n",
      "Submitting batch of 9 items...OK\n",
      "Processing folder D:\\OneDrive-Altairis\\VideoProduction\\Z-TECH\\Main-2025\\src\\06\\02-ImageMaps (PK: a76a5c37432dc30939b80a59188b6762):........\n",
      "Submitting batch of 8 items...OK\n",
      "Processing folder D:\\OneDrive-Altairis\\VideoProduction\\Z-TECH\\Main-2025\\src\\06\\03-IrReceive (PK: 09db4ff977913bf8962228c0f308e46e):...........\n",
      "Submitting batch of 11 items...OK\n",
      "Processing folder D:\\OneDrive-Altairis\\VideoProduction\\Z-TECH\\Main-2025\\src\\06\\04-Anthias (PK: 7df7b325ee47e2e90b19bcb21e334088):........\n",
      "Submitting batch of 8 items...OK\n",
      "Processing folder D:\\OneDrive-Altairis\\VideoProduction\\Z-TECH\\Main-2025\\src\\06\\05-RPiConnect (PK: 80c7aa4166fd857f4667d4e0c8b5064e):..............\n",
      "Submitting batch of 14 items...OK\n",
      "Processing folder D:\\OneDrive-Altairis\\VideoProduction\\Z-TECH\\Main-2025\\src\\06\\06-SlicerSVG (PK: 07de388120394f8484a228c7ba8498bd):..................\n",
      "Submitting batch of 18 items...OK\n",
      "Processing folder D:\\OneDrive-Altairis\\VideoProduction\\Z-TECH\\Main-2025\\src\\06\\07-TVR (PK: cbd9aecd7f42ad39db9527ff9f36ed15):..........\n",
      "Submitting batch of 10 items...OK\n",
      "Processing folder D:\\OneDrive-Altairis\\VideoProduction\\Z-TECH\\Main-2025\\src\\07\\01-Tailscale (PK: 2c8631dde9a3b468334aec4c7f094ed5):........\n",
      "Submitting batch of 8 items...OK\n",
      "Processing folder D:\\OneDrive-Altairis\\VideoProduction\\Z-TECH\\Main-2025\\src\\07\\02-ZBOX (PK: 60fc4af3bfbb221ac741de3059a38370):..\n",
      "Submitting batch of 2 items...OK\n",
      "Processing folder D:\\OneDrive-Altairis\\VideoProduction\\Z-TECH\\Main-2025\\src\\07\\02-ZBOX\\Take1 (PK: 76fbe271b9c890586ebb3e5efdc1c606):..........................\n",
      "Submitting batch of 26 items...OK\n",
      "Processing folder D:\\OneDrive-Altairis\\VideoProduction\\Z-TECH\\Main-2025\\src\\07\\02-ZBOX (PK: 60fc4af3bfbb221ac741de3059a38370):...............................\n",
      "Submitting batch of 31 items...OK\n",
      "Processing folder D:\\OneDrive-Altairis\\VideoProduction\\Z-TECH\\Main-2025\\src\\07\\03-BaseEncoding (PK: 01949905f29deb380e25d76fb55436d9):..........\n",
      "Submitting batch of 10 items...OK\n",
      "Processing folder D:\\OneDrive-Altairis\\VideoProduction\\Z-TECH\\Main-2025\\src\\07\\04-FbScam (PK: 46d8c779ea3f03d3f7ddfceccb07023f):..........\n",
      "Submitting batch of 10 items...OK\n",
      "Processing folder D:\\OneDrive-Altairis\\VideoProduction\\Z-TECH\\Main-2025\\src\\07\\05-AzureStorage1 (PK: 378af3bfc09a78ed3b64c9afa80e44d3):........\n",
      "Submitting batch of 8 items...OK\n",
      "Processing folder D:\\OneDrive-Altairis\\VideoProduction\\Z-TECH\\Main-2025\\src\\07\\06-AzureStorage2 (PK: 8c19f4d4e3538b3a81d7649e2bf8f336):........\n",
      "Submitting batch of 8 items...OK\n",
      "Processing folder D:\\OneDrive-Altairis\\VideoProduction\\Z-TECH\\Main-2025\\src\\08\\01-LedTubeWallMount (PK: 098a51024a36981db9d5097ac897b2ec):............\n",
      "Submitting batch of 12 items...OK\n",
      "Processing folder D:\\OneDrive-Altairis\\VideoProduction\\Z-TECH\\Main-2025\\src\\08\\02-LackAttack (PK: a64c812d4f7d573e3df8725ad27bbd94):........\n",
      "Submitting batch of 8 items...OK\n",
      "Processing folder D:\\OneDrive-Altairis\\VideoProduction\\Z-TECH\\Main-2025\\src\\08\\03-AzureBlobs (PK: 8aebea0da173086b2c2795bdeb19af06):........\n",
      "Submitting batch of 8 items...OK\n",
      "Processing folder D:\\OneDrive-Altairis\\VideoProduction\\Z-TECH\\Main-2025\\src\\08\\04-ExifMetadata (PK: 6d544e1095702b1655d1a87ea0b2670c):..............\n",
      "Submitting batch of 14 items...OK\n",
      "Processing folder D:\\OneDrive-Altairis\\VideoProduction\\Z-TECH\\Main-2025\\src\\08\\05-ExifDotNet (PK: 45cfde900c3d8125be4cba8a013f584e):........\n",
      "Submitting batch of 8 items...OK\n",
      "Processing folder D:\\OneDrive-Altairis\\VideoProduction\\Z-TECH\\Main-2025\\src\\08\\06-AzureQueues (PK: f102dad1a9aa6d66b0bb60bad230f962):.........\n",
      "Submitting batch of 9 items...OK\n",
      "Processing folder D:\\OneDrive-Altairis\\VideoProduction\\Z-TECH\\Main-2025\\src\\MasterProject (PK: e3e5c8aff25daa905faa61e5ccc79f16):..\n",
      "Submitting batch of 2 items...OK\n",
      "Processed 812 items in 76 batches.\n"
     ]
    }
   ],
   "source": [
    "// Prepare to batch insert entities\n",
    "var batch = new List<TableTransactionAction>();\n",
    "var partitionKey = string.Empty;\n",
    "var lastDirectory = string.Empty;\n",
    "var itemCount = 0;\n",
    "var batchCount = 0;\n",
    "\n",
    "// Process all files in the directory \n",
    "var rootInfo = new DirectoryInfo(RootFolderName);\n",
    "var files = rootInfo.GetFiles(\"*.*\", SearchOption.AllDirectories).OrderBy(f => f.FullName);\n",
    "\n",
    "foreach (var file in files) {\n",
    "    // Commit batch if it reaches 100 items or if the folder changes\n",
    "    if (batch.Count == 100 || !lastDirectory.Equals(file.DirectoryName, StringComparison.Ordinal)) {\n",
    "        if (batch.Count > 0) {\n",
    "            // Submit the batch of transactions\n",
    "            Console.WriteLine();\n",
    "            Console.Write($\"Submitting batch of {batch.Count} items...\");\n",
    "            await tableClient.SubmitTransactionAsync(batch);\n",
    "            batch.Clear();\n",
    "            Console.WriteLine(\"OK\");\n",
    "            batchCount++;\n",
    "        }\n",
    "\n",
    "        // Update the partition key based on the current folder if it has changed\n",
    "        if (!lastDirectory.Equals(file.DirectoryName, StringComparison.Ordinal)) {\n",
    "            lastDirectory = file.DirectoryName ?? string.Empty;\n",
    "            partitionKey = GetMD5Hash(lastDirectory);\n",
    "            Console.Write($\"Processing folder {lastDirectory} (PK: {partitionKey}):\");\n",
    "        }\n",
    "    }\n",
    "\n",
    "    // Process each file and extract metadata\n",
    "    Console.Write(\".\");\n",
    "    var metadata = ImageFileExtensions.Contains(file.Extension.ToLowerInvariant())\n",
    "        ? ProcessImageFile(file, partitionKey)\n",
    "        : ProcessOtherFile(file, partitionKey);\n",
    "    itemCount++;\n",
    "\n",
    "    // Add action to insert or update the metadata in Azure Table Storage\n",
    "    batch.Add(new TableTransactionAction(TableTransactionActionType.UpsertMerge, metadata));\n",
    "}\n",
    "\n",
    "// Submit last batch\n",
    "Console.WriteLine();\n",
    "Console.Write($\"Submitting batch of {batch.Count} items...\");\n",
    "await tableClient.SubmitTransactionAsync(batch);\n",
    "batch.Clear();\n",
    "Console.WriteLine(\"OK\");\n",
    "batchCount++;\n",
    "\n",
    "Console.WriteLine($\"Processed {itemCount} items in {batchCount} batches.\");"
   ]
  },
  {
   "cell_type": "markdown",
   "id": "716b8f9f",
   "metadata": {},
   "source": [
    "# Retrieve data"
   ]
  },
  {
   "cell_type": "markdown",
   "id": "778482f2",
   "metadata": {},
   "source": [
    "Define function that will retrieve record from the table. \n",
    "\n",
    "If we would know the record type in advance, we can directly cast to that type when calling the `GetEntityIfExistsAsync<T>` method. We don't know until we read the `RecordType` property, so we have to use the base `TableEntity` type. We then have to manually construct the appropriate type and will its properties."
   ]
  },
  {
   "cell_type": "code",
   "execution_count": null,
   "id": "ecc1d3b1",
   "metadata": {
    "language_info": {
     "name": "polyglot-notebook"
    },
    "polyglot_notebook": {
     "kernelName": "csharp"
    }
   },
   "outputs": [],
   "source": [
    "async Task DisplayMetadata(string fileName) {\n",
    "    var partitionKey = GetMD5Hash(Path.GetDirectoryName(fileName) ?? string.Empty);\n",
    "    var rowKey = GetMD5Hash(Path.GetFileName(fileName) ?? string.Empty);\n",
    "\n",
    "    Console.WriteLine($\"Retrieving entity with PartitionKey: {partitionKey}, RowKey: {rowKey}\");\n",
    "\n",
    "    var entityResponse = await tableClient.GetEntityIfExistsAsync<TableEntity>(partitionKey, rowKey);\n",
    "    if (entityResponse.HasValue) {\n",
    "        var entity = entityResponse.Value;\n",
    "        var recordType = entity.GetString(\"RecordType\");\n",
    "        Console.WriteLine($\"Found entity of type: {recordType}\");\n",
    "        entity.Display();\n",
    "    } else {\n",
    "        Console.WriteLine(\"Entity not found.\");\n",
    "    }\n",
    "}"
   ]
  },
  {
   "cell_type": "markdown",
   "id": "96fc0398",
   "metadata": {},
   "source": [
    "Try to retrieve non-existent record:"
   ]
  },
  {
   "cell_type": "code",
   "execution_count": 12,
   "id": "7e89a07e",
   "metadata": {
    "language_info": {
     "name": "polyglot-notebook"
    },
    "polyglot_notebook": {
     "kernelName": "csharp"
    }
   },
   "outputs": [
    {
     "name": "stdout",
     "output_type": "stream",
     "text": [
      "Retrieving entity with PartitionKey: f102dad1a9aa6d66b0bb60bad230f962, RowKey: e0c3486987e432b4bdd1d966459b5fb1\n",
      "Entity not found.\n"
     ]
    }
   ],
   "source": [
    "await DisplayMetadata(@\"D:\\OneDrive-Altairis\\VideoProduction\\Z-TECH\\Main-2025\\src\\08\\06-AzureQueues\\none.txt\");"
   ]
  },
  {
   "cell_type": "markdown",
   "id": "d043b59b",
   "metadata": {},
   "source": [
    "Retrieve non-image file with common metadata only:"
   ]
  },
  {
   "cell_type": "code",
   "execution_count": 13,
   "id": "e0c52cfa",
   "metadata": {
    "language_info": {
     "name": "polyglot-notebook"
    },
    "polyglot_notebook": {
     "kernelName": "csharp"
    }
   },
   "outputs": [
    {
     "name": "stdout",
     "output_type": "stream",
     "text": [
      "Retrieving entity with PartitionKey: f102dad1a9aa6d66b0bb60bad230f962, RowKey: 06dc0bfdd9942dcf35f4efe7dbdcf110\n",
      "Found entity of type: FileMetadata\n"
     ]
    },
    {
     "data": {
      "text/html": [
       "<table><thead><tr><th><i>key</i></th><th><i>type</i></th><th>value</th></tr></thead><tbody><tr><td><div class=\"dni-plaintext\"><pre>odata.etag</pre></div></td><td><span><a href=\"https://docs.microsoft.com/dotnet/api/system.string?view=net-7.0\">System.String</a></span></td><td><div class=\"dni-plaintext\"><pre>W/&quot;datetime&#39;2025-08-22T15%3A05%3A31.8183478Z&#39;&quot;</pre></div></td></tr><tr><td><div class=\"dni-plaintext\"><pre>PartitionKey</pre></div></td><td><span><a href=\"https://docs.microsoft.com/dotnet/api/system.string?view=net-7.0\">System.String</a></span></td><td><div class=\"dni-plaintext\"><pre>f102dad1a9aa6d66b0bb60bad230f962</pre></div></td></tr><tr><td><div class=\"dni-plaintext\"><pre>RowKey</pre></div></td><td><span><a href=\"https://docs.microsoft.com/dotnet/api/system.string?view=net-7.0\">System.String</a></span></td><td><div class=\"dni-plaintext\"><pre>06dc0bfdd9942dcf35f4efe7dbdcf110</pre></div></td></tr><tr><td><div class=\"dni-plaintext\"><pre>Timestamp</pre></div></td><td><span><a href=\"https://docs.microsoft.com/dotnet/api/system.datetimeoffset?view=net-7.0\">System.DateTimeOffset</a></span></td><td><span>2025-08-22 15:05:31Z</span></td></tr><tr><td><div class=\"dni-plaintext\"><pre>OriginalFileName</pre></div></td><td><span><a href=\"https://docs.microsoft.com/dotnet/api/system.string?view=net-7.0\">System.String</a></span></td><td><div class=\"dni-plaintext\"><pre>D:\\OneDrive-Altairis\\VideoProduction\\Z-TECH\\Main-2025\\src\\08\\06-AzureQueues\\intro.mp4</pre></div></td></tr><tr><td><div class=\"dni-plaintext\"><pre>RecordType</pre></div></td><td><span><a href=\"https://docs.microsoft.com/dotnet/api/system.string?view=net-7.0\">System.String</a></span></td><td><div class=\"dni-plaintext\"><pre>FileMetadata</pre></div></td></tr><tr><td><div class=\"dni-plaintext\"><pre>Size</pre></div></td><td><span><a href=\"https://docs.microsoft.com/dotnet/api/system.int64?view=net-7.0\">System.Int64</a></span></td><td><div class=\"dni-plaintext\"><pre>9008211</pre></div></td></tr></tbody></table><style>\r\n",
       ".dni-code-hint {\r\n",
       "    font-style: italic;\r\n",
       "    overflow: hidden;\r\n",
       "    white-space: nowrap;\r\n",
       "}\r\n",
       ".dni-treeview {\r\n",
       "    white-space: nowrap;\r\n",
       "}\r\n",
       ".dni-treeview td {\r\n",
       "    vertical-align: top;\r\n",
       "    text-align: start;\r\n",
       "}\r\n",
       "details.dni-treeview {\r\n",
       "    padding-left: 1em;\r\n",
       "}\r\n",
       "table td {\r\n",
       "    text-align: start;\r\n",
       "}\r\n",
       "table tr { \r\n",
       "    vertical-align: top; \r\n",
       "    margin: 0em 0px;\r\n",
       "}\r\n",
       "table tr td pre \r\n",
       "{ \r\n",
       "    vertical-align: top !important; \r\n",
       "    margin: 0em 0px !important;\r\n",
       "} \r\n",
       "table th {\r\n",
       "    text-align: start;\r\n",
       "}\r\n",
       "</style>"
      ]
     },
     "metadata": {},
     "output_type": "display_data"
    }
   ],
   "source": [
    "await DisplayMetadata(@\"D:\\OneDrive-Altairis\\VideoProduction\\Z-TECH\\Main-2025\\src\\08\\06-AzureQueues\\intro.mp4\");"
   ]
  },
  {
   "cell_type": "markdown",
   "id": "22adfbf5",
   "metadata": {},
   "source": [
    "Retrieve image file:"
   ]
  },
  {
   "cell_type": "code",
   "execution_count": 14,
   "id": "d61c346c",
   "metadata": {
    "language_info": {
     "name": "polyglot-notebook"
    },
    "polyglot_notebook": {
     "kernelName": "csharp"
    }
   },
   "outputs": [
    {
     "name": "stdout",
     "output_type": "stream",
     "text": [
      "Retrieving entity with PartitionKey: f102dad1a9aa6d66b0bb60bad230f962, RowKey: 209f183beee89ddd16447e0c54187d8c\n",
      "Found entity of type: ImageFileMetadata\n"
     ]
    },
    {
     "data": {
      "text/html": [
       "<table><thead><tr><th><i>key</i></th><th><i>type</i></th><th>value</th></tr></thead><tbody><tr><td><div class=\"dni-plaintext\"><pre>odata.etag</pre></div></td><td><span><a href=\"https://docs.microsoft.com/dotnet/api/system.string?view=net-7.0\">System.String</a></span></td><td><div class=\"dni-plaintext\"><pre>W/&quot;datetime&#39;2025-08-22T15%3A05%3A31.8183478Z&#39;&quot;</pre></div></td></tr><tr><td><div class=\"dni-plaintext\"><pre>PartitionKey</pre></div></td><td><span><a href=\"https://docs.microsoft.com/dotnet/api/system.string?view=net-7.0\">System.String</a></span></td><td><div class=\"dni-plaintext\"><pre>f102dad1a9aa6d66b0bb60bad230f962</pre></div></td></tr><tr><td><div class=\"dni-plaintext\"><pre>RowKey</pre></div></td><td><span><a href=\"https://docs.microsoft.com/dotnet/api/system.string?view=net-7.0\">System.String</a></span></td><td><div class=\"dni-plaintext\"><pre>209f183beee89ddd16447e0c54187d8c</pre></div></td></tr><tr><td><div class=\"dni-plaintext\"><pre>Timestamp</pre></div></td><td><span><a href=\"https://docs.microsoft.com/dotnet/api/system.datetimeoffset?view=net-7.0\">System.DateTimeOffset</a></span></td><td><span>2025-08-22 15:05:31Z</span></td></tr><tr><td><div class=\"dni-plaintext\"><pre>CameraModel</pre></div></td><td><span><a href=\"https://docs.microsoft.com/dotnet/api/system.string?view=net-7.0\">System.String</a></span></td><td><div class=\"dni-plaintext\"><pre>motorola edge 20 lite</pre></div></td></tr><tr><td><div class=\"dni-plaintext\"><pre>ExposureTime</pre></div></td><td><span><a href=\"https://docs.microsoft.com/dotnet/api/system.string?view=net-7.0\">System.String</a></span></td><td><div class=\"dni-plaintext\"><pre>20003/1000000 sec</pre></div></td></tr><tr><td><div class=\"dni-plaintext\"><pre>FNumber</pre></div></td><td><span><a href=\"https://docs.microsoft.com/dotnet/api/system.string?view=net-7.0\">System.String</a></span></td><td><div class=\"dni-plaintext\"><pre>f/1.9</pre></div></td></tr><tr><td><div class=\"dni-plaintext\"><pre>Height</pre></div></td><td><span><a href=\"https://docs.microsoft.com/dotnet/api/system.int32?view=net-7.0\">System.Int32</a></span></td><td><div class=\"dni-plaintext\"><pre>1800</pre></div></td></tr><tr><td><div class=\"dni-plaintext\"><pre>Iso</pre></div></td><td><span><a href=\"https://docs.microsoft.com/dotnet/api/system.string?view=net-7.0\">System.String</a></span></td><td><div class=\"dni-plaintext\"><pre>598</pre></div></td></tr><tr><td><div class=\"dni-plaintext\"><pre>OriginalFileName</pre></div></td><td><span><a href=\"https://docs.microsoft.com/dotnet/api/system.string?view=net-7.0\">System.String</a></span></td><td><div class=\"dni-plaintext\"><pre>D:\\OneDrive-Altairis\\VideoProduction\\Z-TECH\\Main-2025\\src\\08\\06-AzureQueues\\IMG_20250821_214530323.jpg</pre></div></td></tr><tr><td><div class=\"dni-plaintext\"><pre>RecordType</pre></div></td><td><span><a href=\"https://docs.microsoft.com/dotnet/api/system.string?view=net-7.0\">System.String</a></span></td><td><div class=\"dni-plaintext\"><pre>ImageFileMetadata</pre></div></td></tr><tr><td><div class=\"dni-plaintext\"><pre>Size</pre></div></td><td><span><a href=\"https://docs.microsoft.com/dotnet/api/system.int64?view=net-7.0\">System.Int64</a></span></td><td><div class=\"dni-plaintext\"><pre>1385443</pre></div></td></tr><tr><td><div class=\"dni-plaintext\"><pre>Width</pre></div></td><td><span><a href=\"https://docs.microsoft.com/dotnet/api/system.int32?view=net-7.0\">System.Int32</a></span></td><td><div class=\"dni-plaintext\"><pre>4000</pre></div></td></tr></tbody></table><style>\r\n",
       ".dni-code-hint {\r\n",
       "    font-style: italic;\r\n",
       "    overflow: hidden;\r\n",
       "    white-space: nowrap;\r\n",
       "}\r\n",
       ".dni-treeview {\r\n",
       "    white-space: nowrap;\r\n",
       "}\r\n",
       ".dni-treeview td {\r\n",
       "    vertical-align: top;\r\n",
       "    text-align: start;\r\n",
       "}\r\n",
       "details.dni-treeview {\r\n",
       "    padding-left: 1em;\r\n",
       "}\r\n",
       "table td {\r\n",
       "    text-align: start;\r\n",
       "}\r\n",
       "table tr { \r\n",
       "    vertical-align: top; \r\n",
       "    margin: 0em 0px;\r\n",
       "}\r\n",
       "table tr td pre \r\n",
       "{ \r\n",
       "    vertical-align: top !important; \r\n",
       "    margin: 0em 0px !important;\r\n",
       "} \r\n",
       "table th {\r\n",
       "    text-align: start;\r\n",
       "}\r\n",
       "</style>"
      ]
     },
     "metadata": {},
     "output_type": "display_data"
    }
   ],
   "source": [
    "await DisplayMetadata(@\"D:\\OneDrive-Altairis\\VideoProduction\\Z-TECH\\Main-2025\\src\\08\\06-AzureQueues\\IMG_20250821_214530323.jpg\");"
   ]
  },
  {
   "cell_type": "markdown",
   "id": "ff75860e",
   "metadata": {},
   "source": [
    "## Cleanup"
   ]
  },
  {
   "cell_type": "code",
   "execution_count": 15,
   "id": "c94fc43b",
   "metadata": {
    "language_info": {
     "name": "polyglot-notebook"
    },
    "polyglot_notebook": {
     "kernelName": "csharp"
    }
   },
   "outputs": [
    {
     "name": "stdout",
     "output_type": "stream",
     "text": [
      "Deleting Azure Table Storage table...OK\n"
     ]
    }
   ],
   "source": [
    "Console.Write(\"Deleting Azure Table Storage table...\");\n",
    "await tableClient.DeleteAsync();\n",
    "Console.WriteLine(\"OK\");"
   ]
  }
 ],
 "metadata": {
  "kernelspec": {
   "display_name": ".NET (C#)",
   "language": "C#",
   "name": ".net-csharp"
  },
  "language_info": {
   "name": "polyglot-notebook"
  },
  "polyglot_notebook": {
   "kernelInfo": {
    "defaultKernelName": "csharp",
    "items": [
     {
      "aliases": [],
      "languageName": "csharp",
      "name": "csharp"
     }
    ]
   }
  }
 },
 "nbformat": 4,
 "nbformat_minor": 5
}

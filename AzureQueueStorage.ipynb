{
 "cells": [
  {
   "cell_type": "markdown",
   "id": "e9b8939b",
   "metadata": {
    "language_info": {
     "name": "polyglot-notebook"
    },
    "polyglot_notebook": {
     "kernelName": "csharp"
    }
   },
   "source": [
    "# Azure Queue Storage Demo"
   ]
  },
  {
   "cell_type": "markdown",
   "id": "9cf4819a",
   "metadata": {},
   "source": [
    "## Preparation"
   ]
  },
  {
   "cell_type": "code",
   "execution_count": null,
   "metadata": {
    "language_info": {
     "name": "polyglot-notebook"
    },
    "polyglot_notebook": {
     "kernelName": "csharp"
    }
   },
   "outputs": [],
   "source": [
    "#r \"nuget: Azure.Storage.Queues\""
   ]
  },
  {
   "cell_type": "markdown",
   "id": "243f5327",
   "metadata": {},
   "source": [
    "Import namespaces:"
   ]
  },
  {
   "cell_type": "code",
   "execution_count": null,
   "id": "66bd2bca",
   "metadata": {
    "language_info": {
     "name": "polyglot-notebook"
    },
    "polyglot_notebook": {
     "kernelName": "csharp"
    }
   },
   "outputs": [],
   "source": [
    "using Azure.Storage.Queues;\n",
    "using Azure.Storage.Queues.Models;"
   ]
  },
  {
   "cell_type": "markdown",
   "id": "855a0945",
   "metadata": {},
   "source": [
    "Setup connection string:"
   ]
  },
  {
   "cell_type": "code",
   "execution_count": null,
   "metadata": {
    "language_info": {
     "name": "polyglot-notebook"
    },
    "polyglot_notebook": {
     "kernelName": "csharp"
    }
   },
   "outputs": [],
   "source": [
    "var connectionString = \"DefaultEndpointsProtocol=https;AccountName=ztechtest;AccountKey=XXX;EndpointSuffix=core.windows.net\";"
   ]
  },
  {
   "cell_type": "markdown",
   "id": "20718609",
   "metadata": {},
   "source": [
    "## Create and Initialize Queue Client\n",
    "This step creates a queue client and initializes the queue."
   ]
  },
  {
   "cell_type": "code",
   "execution_count": null,
   "metadata": {
    "language_info": {
     "name": "polyglot-notebook"
    },
    "polyglot_notebook": {
     "kernelName": "csharp"
    }
   },
   "outputs": [],
   "source": [
    "// Name of the queue\n",
    "var queueName = \"my-queue\";\n",
    "\n",
    "// Create the queue client\n",
    "var queueClient = new QueueClient(connectionString, queueName);\n",
    "\n",
    "Console.WriteLine($\"Creating queue '{queueName}'...\");\n",
    "\n",
    "// Create the queue if it doesn't exist\n",
    "await queueClient.CreateIfNotExistsAsync();\n",
    "\n",
    "if (queueClient.Exists())\n",
    "{\n",
    "    Console.WriteLine($\"Queue '{queueName}' is ready.\");\n",
    "}\n",
    "else\n",
    "{\n",
    "    Console.WriteLine($\"Failed to create queue '{queueName}'.\");\n",
    "}"
   ]
  },
  {
   "cell_type": "markdown",
   "id": "a8cc36d8",
   "metadata": {},
   "source": [
    "## Add Messages to the Queue\n",
    "Now, let's add some messages to the queue."
   ]
  },
  {
   "cell_type": "code",
   "execution_count": null,
   "metadata": {
    "language_info": {
     "name": "polyglot-notebook"
    },
    "polyglot_notebook": {
     "kernelName": "csharp"
    }
   },
   "outputs": [],
   "source": [
    "for (int i = 1; i <= 5; i++)\n",
    "{\n",
    "    await queueClient.SendMessageAsync($\"Message #{i}\");\n",
    "}\n",
    "\n",
    "Console.WriteLine(\"Messages added to the queue.\");"
   ]
  },
  {
   "cell_type": "markdown",
   "id": "59e6408d",
   "metadata": {},
   "source": [
    "## Retrieve and process messages"
   ]
  },
  {
   "cell_type": "code",
   "execution_count": null,
   "metadata": {
    "language_info": {
     "name": "polyglot-notebook"
    },
    "polyglot_notebook": {
     "kernelName": "csharp"
    }
   },
   "outputs": [],
   "source": [
    "while (true)\n",
    "{\n",
    "    // Receive a message from the queue\n",
    "    var msgReply = await queueClient.ReceiveMessageAsync(visibilityTimeout: TimeSpan.FromSeconds(30));\n",
    "\n",
    "    // Check if a message was received; if not, queue is empty and exit the loop\n",
    "    if (msgReply.Value == null) break;\n",
    "    var msg = msgReply.Value;\n",
    "\n",
    "    // Show message details\n",
    "    msg.Display();\n",
    "\n",
    "    // Delete the message from the queue\n",
    "    await queueClient.DeleteMessageAsync(msg.MessageId, msg.PopReceipt);\n",
    "}\n",
    "Console.WriteLine(\"All messages received and deleted from the queue.\");"
   ]
  },
  {
   "cell_type": "markdown",
   "id": "703058b3",
   "metadata": {},
   "source": [
    "The `visibilityTimeout` argument in `ReceiveMessageAsync` specifies how long the received message will be invisible to other consumers after being read. When a message is retrieved, it remains in the queue but is hidden for the duration of the timeout. If the message is not deleted within this period, it becomes visible again and can be processed by another consumer. This mechanism helps ensure that messages are not lost if processing fails, but also prevents multiple consumers from processing the same message simultaneously.\n",
    "\n",
    "When message is returned into the queue and received again, its `DequeueCount` property is incremented. You may use this property to weed out _poison messages_, which can cause problems. If the same message fails processing multiple times, you can throw it away.\n",
    "\n",
    "First, let's add some messages again. They will contain numbers, but some of them are invalid and would crash the processing code:"
   ]
  },
  {
   "cell_type": "code",
   "execution_count": null,
   "metadata": {
    "language_info": {
     "name": "polyglot-notebook"
    },
    "polyglot_notebook": {
     "kernelName": "csharp"
    }
   },
   "outputs": [],
   "source": [
    "Console.Write(\"Generating: \");\n",
    "for (int i = 1; i <= 20; i++) {\n",
    "    var randomNumber = new Random().Next(1, 101);\n",
    "\n",
    "    if (randomNumber <= 10) {\n",
    "        // In 10% of the cases, intentionally generate invalid message \n",
    "        await queueClient.SendMessageAsync(\"Poison!\");\n",
    "        Console.Write(\"!\");\n",
    "    } else {\n",
    "        await queueClient.SendMessageAsync(randomNumber.ToString());\n",
    "        Console.Write(\".\");\n",
    "    }\n",
    "}"
   ]
  },
  {
   "cell_type": "markdown",
   "id": "2c2e1ce1",
   "metadata": {},
   "source": [
    "Now we will try to process the messages, but some will fail:"
   ]
  },
  {
   "cell_type": "code",
   "execution_count": null,
   "metadata": {
    "language_info": {
     "name": "polyglot-notebook"
    },
    "polyglot_notebook": {
     "kernelName": "csharp"
    }
   },
   "outputs": [],
   "source": [
    "const int MaxRetry = 3;\n",
    "const int MaxWaitTime = 10;\n",
    "\n",
    "var sw = new System.Diagnostics.Stopwatch();\n",
    "\n",
    "while(true) {\n",
    "    // Receive a message from the queue\n",
    "    var msgReply = await queueClient.ReceiveMessageAsync(visibilityTimeout: TimeSpan.FromSeconds(1));\n",
    "\n",
    "    // Check if a message was received; if not, wait for a while\n",
    "    if (msgReply.Value == null) {\n",
    "        if(sw.Elapsed > TimeSpan.FromSeconds(MaxWaitTime)) {\n",
    "            sw.Stop();\n",
    "            Console.WriteLine(\"No messages in the queue, exiting.\");\n",
    "            break;\n",
    "        }\n",
    "        sw.Start();\n",
    "        await Task.Delay(TimeSpan.FromSeconds(1));\n",
    "        continue;\n",
    "    }\n",
    "    var msg = msgReply.Value;\n",
    "    sw.Reset();\n",
    "\n",
    "    // Check if the message wasn't already tried enough times\n",
    "    if (msg.DequeueCount > MaxRetry) {\n",
    "        // This is poison message, delete it\n",
    "        Console.WriteLine($\"Message #{msg.MessageId}: '{msg.Body}' is a poison message.\");\n",
    "        await queueClient.DeleteMessageAsync(msg.MessageId, msg.PopReceipt);\n",
    "    } else {\n",
    "        // Process the message\n",
    "        try {\n",
    "            Console.Write($\"Processing message #{msg.MessageId}: '{msg.Body}'...\");\n",
    "            var x = int.Parse(msg.Body.ToString());\n",
    "            await queueClient.DeleteMessageAsync(msg.MessageId, msg.PopReceipt);\n",
    "            Console.WriteLine(\"OK\");\n",
    "        } catch (Exception ex) {\n",
    "            Console.WriteLine($\"Failed: {ex.Message}\");\n",
    "        }\n",
    "    }\n",
    "}"
   ]
  },
  {
   "cell_type": "markdown",
   "id": "ac9c256c",
   "metadata": {},
   "source": [
    "## Clean-up"
   ]
  },
  {
   "cell_type": "code",
   "execution_count": null,
   "metadata": {
    "language_info": {
     "name": "polyglot-notebook"
    },
    "polyglot_notebook": {
     "kernelName": "csharp"
    }
   },
   "outputs": [],
   "source": [
    "await queueClient.DeleteIfExistsAsync();\n",
    "Console.WriteLine($\"Queue '{queueName}' deleted.\");"
   ]
  },
  {
   "cell_type": "markdown",
   "id": "4ef1e647",
   "metadata": {},
   "source": [
    "Note: As with blob containers, if you delete a queue, it's just marked for deletion and it takes a while to be actually deleted. If you will try to recreate the queue immediatelly, it will fail."
   ]
  }
 ],
 "metadata": {
  "kernelspec": {
   "display_name": ".NET (C#)",
   "language": "C#",
   "name": ".net-csharp"
  },
  "language_info": {
   "name": "polyglot-notebook"
  },
  "polyglot_notebook": {
   "kernelInfo": {
    "defaultKernelName": "csharp",
    "items": [
     {
      "aliases": [],
      "languageName": "csharp",
      "name": "csharp"
     }
    ]
   }
  }
 },
 "nbformat": 4,
 "nbformat_minor": 5
}

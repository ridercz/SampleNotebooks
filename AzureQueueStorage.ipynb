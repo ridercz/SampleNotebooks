{
 "cells": [
  {
   "cell_type": "markdown",
   "id": "e9b8939b",
   "metadata": {
    "language_info": {
     "name": "polyglot-notebook"
    },
    "polyglot_notebook": {
     "kernelName": "csharp"
    }
   },
   "source": [
    "# Azure Queue Storage Demo"
   ]
  },
  {
   "cell_type": "markdown",
   "id": "9cf4819a",
   "metadata": {},
   "source": [
    "## Preparation"
   ]
  },
  {
   "cell_type": "code",
   "execution_count": 23,
   "metadata": {
    "language_info": {
     "name": "polyglot-notebook"
    },
    "polyglot_notebook": {
     "kernelName": "csharp"
    }
   },
   "outputs": [
    {
     "data": {
      "text/html": [
       "<div><div></div><div></div><div><strong>Installed Packages</strong><ul><li><span>Azure.Storage.Queues, 12.23.0</span></li></ul></div></div>"
      ]
     },
     "metadata": {},
     "output_type": "display_data"
    }
   ],
   "source": [
    "#r \"nuget: Azure.Storage.Queues\""
   ]
  },
  {
   "cell_type": "markdown",
   "id": "243f5327",
   "metadata": {},
   "source": [
    "Import namespaces:"
   ]
  },
  {
   "cell_type": "code",
   "execution_count": 24,
   "id": "66bd2bca",
   "metadata": {
    "language_info": {
     "name": "polyglot-notebook"
    },
    "polyglot_notebook": {
     "kernelName": "csharp"
    }
   },
   "outputs": [],
   "source": [
    "using Azure.Storage.Queues;\n",
    "using Azure.Storage.Queues.Models;"
   ]
  },
  {
   "cell_type": "markdown",
   "id": "855a0945",
   "metadata": {},
   "source": [
    "Setup connection string:"
   ]
  },
  {
   "cell_type": "code",
   "execution_count": null,
   "metadata": {
    "language_info": {
     "name": "polyglot-notebook"
    },
    "polyglot_notebook": {
     "kernelName": "csharp"
    }
   },
   "outputs": [],
   "source": [
    "var connectionString = \"DefaultEndpointsProtocol=https;AccountName=ztechtest;AccountKey=XXX;EndpointSuffix=core.windows.net\";"
   ]
  },
  {
   "cell_type": "markdown",
   "id": "20718609",
   "metadata": {},
   "source": [
    "## Create and Initialize Queue Client\n",
    "This step creates a queue client and initializes the queue."
   ]
  },
  {
   "cell_type": "code",
   "execution_count": 26,
   "metadata": {
    "language_info": {
     "name": "polyglot-notebook"
    },
    "polyglot_notebook": {
     "kernelName": "csharp"
    }
   },
   "outputs": [
    {
     "name": "stdout",
     "output_type": "stream",
     "text": [
      "Creating queue 'my-queue'...\n",
      "Queue 'my-queue' is ready.\n"
     ]
    }
   ],
   "source": [
    "// Name of the queue\n",
    "var queueName = \"my-queue\";\n",
    "\n",
    "// Create the queue client\n",
    "var queueClient = new QueueClient(connectionString, queueName);\n",
    "\n",
    "Console.WriteLine($\"Creating queue '{queueName}'...\");\n",
    "\n",
    "// Create the queue if it doesn't exist\n",
    "await queueClient.CreateIfNotExistsAsync();\n",
    "\n",
    "if (queueClient.Exists())\n",
    "{\n",
    "    Console.WriteLine($\"Queue '{queueName}' is ready.\");\n",
    "}\n",
    "else\n",
    "{\n",
    "    Console.WriteLine($\"Failed to create queue '{queueName}'.\");\n",
    "}"
   ]
  },
  {
   "cell_type": "markdown",
   "id": "a8cc36d8",
   "metadata": {},
   "source": [
    "## Add Messages to the Queue\n",
    "Now, let's add some messages to the queue."
   ]
  },
  {
   "cell_type": "code",
   "execution_count": 27,
   "metadata": {
    "language_info": {
     "name": "polyglot-notebook"
    },
    "polyglot_notebook": {
     "kernelName": "csharp"
    }
   },
   "outputs": [
    {
     "name": "stdout",
     "output_type": "stream",
     "text": [
      "Messages added to the queue.\r\n"
     ]
    }
   ],
   "source": [
    "for (int i = 1; i <= 5; i++)\n",
    "{\n",
    "    await queueClient.SendMessageAsync($\"Message #{i}\");\n",
    "}\n",
    "\n",
    "Console.WriteLine(\"Messages added to the queue.\");"
   ]
  },
  {
   "cell_type": "markdown",
   "id": "59e6408d",
   "metadata": {},
   "source": [
    "## Retrieve and process messages"
   ]
  },
  {
   "cell_type": "code",
   "execution_count": 28,
   "metadata": {
    "language_info": {
     "name": "polyglot-notebook"
    },
    "polyglot_notebook": {
     "kernelName": "csharp"
    }
   },
   "outputs": [
    {
     "data": {
      "text/html": [
       "<details open=\"open\" class=\"dni-treeview\"><summary><span class=\"dni-code-hint\"><code>Azure.Storage.Queues.Models.QueueMessage</code></span></summary><div><table><thead><tr></tr></thead><tbody><tr><td>MessageId</td><td><div class=\"dni-plaintext\"><pre>4b9337ca-3910-4801-947b-4496976b5ea3</pre></div></td></tr><tr><td>PopReceipt</td><td><div class=\"dni-plaintext\"><pre>AgAAAAMAAAAAAAAAnuJK51MQ3AE=</pre></div></td></tr><tr><td>MessageText</td><td><div class=\"dni-plaintext\"><pre>Message #1</pre></div></td></tr><tr><td>Body</td><td><details class=\"dni-treeview\"><summary><span class=\"dni-code-hint\"><code>Message #1</code></span></summary><div><table><thead><tr></tr></thead><tbody></tbody></table></div></details></td></tr><tr><td>NextVisibleOn</td><td><span>2025-08-18 15:22:26Z</span></td></tr><tr><td>InsertedOn</td><td><span>2025-08-18 15:20:12Z</span></td></tr><tr><td>ExpiresOn</td><td><span>2025-08-25 15:20:12Z</span></td></tr><tr><td>DequeueCount</td><td><div class=\"dni-plaintext\"><pre>1</pre></div></td></tr></tbody></table></div></details><style>\r\n",
       ".dni-code-hint {\r\n",
       "    font-style: italic;\r\n",
       "    overflow: hidden;\r\n",
       "    white-space: nowrap;\r\n",
       "}\r\n",
       ".dni-treeview {\r\n",
       "    white-space: nowrap;\r\n",
       "}\r\n",
       ".dni-treeview td {\r\n",
       "    vertical-align: top;\r\n",
       "    text-align: start;\r\n",
       "}\r\n",
       "details.dni-treeview {\r\n",
       "    padding-left: 1em;\r\n",
       "}\r\n",
       "table td {\r\n",
       "    text-align: start;\r\n",
       "}\r\n",
       "table tr { \r\n",
       "    vertical-align: top; \r\n",
       "    margin: 0em 0px;\r\n",
       "}\r\n",
       "table tr td pre \r\n",
       "{ \r\n",
       "    vertical-align: top !important; \r\n",
       "    margin: 0em 0px !important;\r\n",
       "} \r\n",
       "table th {\r\n",
       "    text-align: start;\r\n",
       "}\r\n",
       "</style>"
      ]
     },
     "metadata": {},
     "output_type": "display_data"
    },
    {
     "data": {
      "text/html": [
       "<details open=\"open\" class=\"dni-treeview\"><summary><span class=\"dni-code-hint\"><code>Azure.Storage.Queues.Models.QueueMessage</code></span></summary><div><table><thead><tr></tr></thead><tbody><tr><td>MessageId</td><td><div class=\"dni-plaintext\"><pre>45863ed8-8d0b-42c2-855e-d24dcb22a9a2</pre></div></td></tr><tr><td>PopReceipt</td><td><div class=\"dni-plaintext\"><pre>AgAAAAMAAAAAAAAApd9R51MQ3AE=</pre></div></td></tr><tr><td>MessageText</td><td><div class=\"dni-plaintext\"><pre>Message #2</pre></div></td></tr><tr><td>Body</td><td><details class=\"dni-treeview\"><summary><span class=\"dni-code-hint\"><code>Message #2</code></span></summary><div><table><thead><tr></tr></thead><tbody></tbody></table></div></details></td></tr><tr><td>NextVisibleOn</td><td><span>2025-08-18 15:22:26Z</span></td></tr><tr><td>InsertedOn</td><td><span>2025-08-18 15:20:12Z</span></td></tr><tr><td>ExpiresOn</td><td><span>2025-08-25 15:20:12Z</span></td></tr><tr><td>DequeueCount</td><td><div class=\"dni-plaintext\"><pre>1</pre></div></td></tr></tbody></table></div></details><style>\r\n",
       ".dni-code-hint {\r\n",
       "    font-style: italic;\r\n",
       "    overflow: hidden;\r\n",
       "    white-space: nowrap;\r\n",
       "}\r\n",
       ".dni-treeview {\r\n",
       "    white-space: nowrap;\r\n",
       "}\r\n",
       ".dni-treeview td {\r\n",
       "    vertical-align: top;\r\n",
       "    text-align: start;\r\n",
       "}\r\n",
       "details.dni-treeview {\r\n",
       "    padding-left: 1em;\r\n",
       "}\r\n",
       "table td {\r\n",
       "    text-align: start;\r\n",
       "}\r\n",
       "table tr { \r\n",
       "    vertical-align: top; \r\n",
       "    margin: 0em 0px;\r\n",
       "}\r\n",
       "table tr td pre \r\n",
       "{ \r\n",
       "    vertical-align: top !important; \r\n",
       "    margin: 0em 0px !important;\r\n",
       "} \r\n",
       "table th {\r\n",
       "    text-align: start;\r\n",
       "}\r\n",
       "</style>"
      ]
     },
     "metadata": {},
     "output_type": "display_data"
    },
    {
     "data": {
      "text/html": [
       "<details open=\"open\" class=\"dni-treeview\"><summary><span class=\"dni-code-hint\"><code>Azure.Storage.Queues.Models.QueueMessage</code></span></summary><div><table><thead><tr></tr></thead><tbody><tr><td>MessageId</td><td><div class=\"dni-plaintext\"><pre>59183d12-cf32-4625-a611-cc492e08831d</pre></div></td></tr><tr><td>PopReceipt</td><td><div class=\"dni-plaintext\"><pre>AgAAAAMAAAAAAAAAs9xY51MQ3AE=</pre></div></td></tr><tr><td>MessageText</td><td><div class=\"dni-plaintext\"><pre>Message #3</pre></div></td></tr><tr><td>Body</td><td><details class=\"dni-treeview\"><summary><span class=\"dni-code-hint\"><code>Message #3</code></span></summary><div><table><thead><tr></tr></thead><tbody></tbody></table></div></details></td></tr><tr><td>NextVisibleOn</td><td><span>2025-08-18 15:22:26Z</span></td></tr><tr><td>InsertedOn</td><td><span>2025-08-18 15:20:12Z</span></td></tr><tr><td>ExpiresOn</td><td><span>2025-08-25 15:20:12Z</span></td></tr><tr><td>DequeueCount</td><td><div class=\"dni-plaintext\"><pre>1</pre></div></td></tr></tbody></table></div></details><style>\r\n",
       ".dni-code-hint {\r\n",
       "    font-style: italic;\r\n",
       "    overflow: hidden;\r\n",
       "    white-space: nowrap;\r\n",
       "}\r\n",
       ".dni-treeview {\r\n",
       "    white-space: nowrap;\r\n",
       "}\r\n",
       ".dni-treeview td {\r\n",
       "    vertical-align: top;\r\n",
       "    text-align: start;\r\n",
       "}\r\n",
       "details.dni-treeview {\r\n",
       "    padding-left: 1em;\r\n",
       "}\r\n",
       "table td {\r\n",
       "    text-align: start;\r\n",
       "}\r\n",
       "table tr { \r\n",
       "    vertical-align: top; \r\n",
       "    margin: 0em 0px;\r\n",
       "}\r\n",
       "table tr td pre \r\n",
       "{ \r\n",
       "    vertical-align: top !important; \r\n",
       "    margin: 0em 0px !important;\r\n",
       "} \r\n",
       "table th {\r\n",
       "    text-align: start;\r\n",
       "}\r\n",
       "</style>"
      ]
     },
     "metadata": {},
     "output_type": "display_data"
    },
    {
     "data": {
      "text/html": [
       "<details open=\"open\" class=\"dni-treeview\"><summary><span class=\"dni-code-hint\"><code>Azure.Storage.Queues.Models.QueueMessage</code></span></summary><div><table><thead><tr></tr></thead><tbody><tr><td>MessageId</td><td><div class=\"dni-plaintext\"><pre>463f9e41-2738-408d-a5ed-8759c5fd7e4c</pre></div></td></tr><tr><td>PopReceipt</td><td><div class=\"dni-plaintext\"><pre>AgAAAAMAAAAAAAAA7otf51MQ3AE=</pre></div></td></tr><tr><td>MessageText</td><td><div class=\"dni-plaintext\"><pre>Message #4</pre></div></td></tr><tr><td>Body</td><td><details class=\"dni-treeview\"><summary><span class=\"dni-code-hint\"><code>Message #4</code></span></summary><div><table><thead><tr></tr></thead><tbody></tbody></table></div></details></td></tr><tr><td>NextVisibleOn</td><td><span>2025-08-18 15:22:26Z</span></td></tr><tr><td>InsertedOn</td><td><span>2025-08-18 15:20:12Z</span></td></tr><tr><td>ExpiresOn</td><td><span>2025-08-25 15:20:12Z</span></td></tr><tr><td>DequeueCount</td><td><div class=\"dni-plaintext\"><pre>1</pre></div></td></tr></tbody></table></div></details><style>\r\n",
       ".dni-code-hint {\r\n",
       "    font-style: italic;\r\n",
       "    overflow: hidden;\r\n",
       "    white-space: nowrap;\r\n",
       "}\r\n",
       ".dni-treeview {\r\n",
       "    white-space: nowrap;\r\n",
       "}\r\n",
       ".dni-treeview td {\r\n",
       "    vertical-align: top;\r\n",
       "    text-align: start;\r\n",
       "}\r\n",
       "details.dni-treeview {\r\n",
       "    padding-left: 1em;\r\n",
       "}\r\n",
       "table td {\r\n",
       "    text-align: start;\r\n",
       "}\r\n",
       "table tr { \r\n",
       "    vertical-align: top; \r\n",
       "    margin: 0em 0px;\r\n",
       "}\r\n",
       "table tr td pre \r\n",
       "{ \r\n",
       "    vertical-align: top !important; \r\n",
       "    margin: 0em 0px !important;\r\n",
       "} \r\n",
       "table th {\r\n",
       "    text-align: start;\r\n",
       "}\r\n",
       "</style>"
      ]
     },
     "metadata": {},
     "output_type": "display_data"
    },
    {
     "data": {
      "text/html": [
       "<details open=\"open\" class=\"dni-treeview\"><summary><span class=\"dni-code-hint\"><code>Azure.Storage.Queues.Models.QueueMessage</code></span></summary><div><table><thead><tr></tr></thead><tbody><tr><td>MessageId</td><td><div class=\"dni-plaintext\"><pre>8a5b6ce5-d29b-45c6-b35b-d40ed97ed734</pre></div></td></tr><tr><td>PopReceipt</td><td><div class=\"dni-plaintext\"><pre>AgAAAAMAAAAAAAAAFWJm51MQ3AE=</pre></div></td></tr><tr><td>MessageText</td><td><div class=\"dni-plaintext\"><pre>Message #5</pre></div></td></tr><tr><td>Body</td><td><details class=\"dni-treeview\"><summary><span class=\"dni-code-hint\"><code>Message #5</code></span></summary><div><table><thead><tr></tr></thead><tbody></tbody></table></div></details></td></tr><tr><td>NextVisibleOn</td><td><span>2025-08-18 15:22:26Z</span></td></tr><tr><td>InsertedOn</td><td><span>2025-08-18 15:20:12Z</span></td></tr><tr><td>ExpiresOn</td><td><span>2025-08-25 15:20:12Z</span></td></tr><tr><td>DequeueCount</td><td><div class=\"dni-plaintext\"><pre>1</pre></div></td></tr></tbody></table></div></details><style>\r\n",
       ".dni-code-hint {\r\n",
       "    font-style: italic;\r\n",
       "    overflow: hidden;\r\n",
       "    white-space: nowrap;\r\n",
       "}\r\n",
       ".dni-treeview {\r\n",
       "    white-space: nowrap;\r\n",
       "}\r\n",
       ".dni-treeview td {\r\n",
       "    vertical-align: top;\r\n",
       "    text-align: start;\r\n",
       "}\r\n",
       "details.dni-treeview {\r\n",
       "    padding-left: 1em;\r\n",
       "}\r\n",
       "table td {\r\n",
       "    text-align: start;\r\n",
       "}\r\n",
       "table tr { \r\n",
       "    vertical-align: top; \r\n",
       "    margin: 0em 0px;\r\n",
       "}\r\n",
       "table tr td pre \r\n",
       "{ \r\n",
       "    vertical-align: top !important; \r\n",
       "    margin: 0em 0px !important;\r\n",
       "} \r\n",
       "table th {\r\n",
       "    text-align: start;\r\n",
       "}\r\n",
       "</style>"
      ]
     },
     "metadata": {},
     "output_type": "display_data"
    },
    {
     "name": "stdout",
     "output_type": "stream",
     "text": [
      "All messages received and deleted from the queue.\r\n"
     ]
    }
   ],
   "source": [
    "while (true)\n",
    "{\n",
    "    // Receive a message from the queue\n",
    "    var msgReply = await queueClient.ReceiveMessageAsync(visibilityTimeout: TimeSpan.FromSeconds(30));\n",
    "\n",
    "    // Check if a message was received; if not, queue is empty and exit the loop\n",
    "    if (msgReply.Value == null) break;\n",
    "    var msg = msgReply.Value;\n",
    "\n",
    "    // Show message details\n",
    "    msg.Display();\n",
    "\n",
    "    // Delete the message from the queue\n",
    "    await queueClient.DeleteMessageAsync(msg.MessageId, msg.PopReceipt);\n",
    "}\n",
    "Console.WriteLine(\"All messages received and deleted from the queue.\");"
   ]
  },
  {
   "cell_type": "markdown",
   "id": "703058b3",
   "metadata": {},
   "source": [
    "The `visibilityTimeout` argument in `ReceiveMessageAsync` specifies how long the received message will be invisible to other consumers after being read. When a message is retrieved, it remains in the queue but is hidden for the duration of the timeout. If the message is not deleted within this period, it becomes visible again and can be processed by another consumer. This mechanism helps ensure that messages are not lost if processing fails, but also prevents multiple consumers from processing the same message simultaneously.\n",
    "\n",
    "When message is returned into the queue and received again, its `DequeueCount` property is incremented. You may use this property to weed out _poison messages_, which can cause problems. If the same message fails processing multiple times, you can throw it away.\n",
    "\n",
    "First, let's add some messages again. They will contain numbers, but some of them are invalid and would crash the processing code:"
   ]
  },
  {
   "cell_type": "code",
   "execution_count": 29,
   "metadata": {
    "language_info": {
     "name": "polyglot-notebook"
    },
    "polyglot_notebook": {
     "kernelName": "csharp"
    }
   },
   "outputs": [
    {
     "name": "stdout",
     "output_type": "stream",
     "text": [
      "Generating: ......!............."
     ]
    }
   ],
   "source": [
    "Console.Write(\"Generating: \");\n",
    "for (int i = 1; i <= 20; i++) {\n",
    "    var randomNumber = new Random().Next(1, 101);\n",
    "\n",
    "    if (randomNumber <= 10) {\n",
    "        // In 10% of the cases, intentionally generate invalid message \n",
    "        await queueClient.SendMessageAsync(\"Poison!\");\n",
    "        Console.Write(\"!\");\n",
    "    } else {\n",
    "        await queueClient.SendMessageAsync(randomNumber.ToString());\n",
    "        Console.Write(\".\");\n",
    "    }\n",
    "}"
   ]
  },
  {
   "cell_type": "markdown",
   "id": "2c2e1ce1",
   "metadata": {},
   "source": [
    "Now we will try to process the messages, but some will fail:"
   ]
  },
  {
   "cell_type": "code",
   "execution_count": 30,
   "metadata": {
    "language_info": {
     "name": "polyglot-notebook"
    },
    "polyglot_notebook": {
     "kernelName": "csharp"
    }
   },
   "outputs": [
    {
     "name": "stdout",
     "output_type": "stream",
     "text": [
      "Processing message #87437259-500d-4e2a-8c1c-2f09f495c214: '74'...OK\n",
      "Processing message #d72c5186-6918-4447-8d3c-2445dd392c50: '89'...OK\n",
      "Processing message #bb337a7d-7a76-4632-a1f2-dd22086f2e11: '11'...OK\n",
      "Processing message #f98d991d-52dd-4971-9569-07e6ee456ca4: '79'...OK\n",
      "Processing message #eff1cbf0-decb-404a-bd52-c99817af1d17: '81'...OK\n",
      "Processing message #d77e4bb8-30b1-426f-9835-87ce7df7ea7d: '85'...OK\n",
      "Processing message #cee4a5e2-a967-4767-8018-0ba61484d9b4: 'Poison!'...Failed: The input string 'Poison!' was not in a correct format.\n",
      "Processing message #9228c73a-f3a6-45c0-95f1-cca2ceb8ff7f: '39'...OK\n",
      "Processing message #21e6f44f-4769-4e36-9280-60125bd52f11: '68'...OK\n",
      "Processing message #8012ee7b-24ae-4e61-83a6-2dc1e6500b29: '58'...OK\n",
      "Processing message #db9d2d3d-8177-4b2c-9dd5-d0350900618a: '17'...OK\n",
      "Processing message #a2cf8c12-bb6c-480c-a303-04efc5a18e99: '100'...OK\n",
      "Processing message #30008bd3-5773-4cfe-a842-b346b5372097: '44'...OK\n",
      "Processing message #8a72d79d-c67c-4db2-8438-ea05a87f93e4: '76'...OK\n",
      "Processing message #a99aefaf-273f-4d22-90b1-e19b672c579f: '62'...OK\n",
      "Processing message #e1597fde-c522-40f8-9136-778efb7edd12: '26'...OK\n",
      "Processing message #19a599a4-b6bf-4f7f-ae06-d9561e213979: '22'...OK\n",
      "Processing message #33e69dc7-804b-49ae-b076-3f3567a8794b: '84'...OK\n",
      "Processing message #995f0455-7003-4ddc-ab8a-0180288e1b5f: '98'...OK\n",
      "Processing message #704aa7ce-9039-4828-a1cf-59c5ab461bdd: '26'...OK\n",
      "Processing message #cee4a5e2-a967-4767-8018-0ba61484d9b4: 'Poison!'...Failed: The input string 'Poison!' was not in a correct format.\n",
      "Processing message #cee4a5e2-a967-4767-8018-0ba61484d9b4: 'Poison!'...Failed: The input string 'Poison!' was not in a correct format.\n",
      "Message #cee4a5e2-a967-4767-8018-0ba61484d9b4: 'Poison!' is a poison message.\n",
      "No messages in the queue, exiting.\n"
     ]
    }
   ],
   "source": [
    "const int MaxRetry = 3;\n",
    "const int MaxWaitTime = 10;\n",
    "\n",
    "var sw = new System.Diagnostics.Stopwatch();\n",
    "\n",
    "while(true) {\n",
    "    // Receive a message from the queue\n",
    "    var msgReply = await queueClient.ReceiveMessageAsync(visibilityTimeout: TimeSpan.FromSeconds(1));\n",
    "\n",
    "    // Check if a message was received; if not, wait for a while\n",
    "    if (msgReply.Value == null) {\n",
    "        if(sw.Elapsed > TimeSpan.FromSeconds(MaxWaitTime)) {\n",
    "            sw.Stop();\n",
    "            Console.WriteLine(\"No messages in the queue, exiting.\");\n",
    "            break;\n",
    "        }\n",
    "        sw.Start();\n",
    "        await Task.Delay(TimeSpan.FromSeconds(1));\n",
    "        continue;\n",
    "    }\n",
    "    var msg = msgReply.Value;\n",
    "    sw.Reset();\n",
    "\n",
    "    // Check if the message wasn't already tried enough times\n",
    "    if (msg.DequeueCount > MaxRetry) {\n",
    "        // This is poison message, delete it\n",
    "        Console.WriteLine($\"Message #{msg.MessageId}: '{msg.Body}' is a poison message.\");\n",
    "        await queueClient.DeleteMessageAsync(msg.MessageId, msg.PopReceipt);\n",
    "    } else {\n",
    "        // Process the message\n",
    "        try {\n",
    "            Console.Write($\"Processing message #{msg.MessageId}: '{msg.Body}'...\");\n",
    "            var x = int.Parse(msg.Body.ToString());\n",
    "            await queueClient.DeleteMessageAsync(msg.MessageId, msg.PopReceipt);\n",
    "            Console.WriteLine(\"OK\");\n",
    "        } catch (Exception ex) {\n",
    "            Console.WriteLine($\"Failed: {ex.Message}\");\n",
    "        }\n",
    "    }\n",
    "}"
   ]
  },
  {
   "cell_type": "markdown",
   "id": "ac9c256c",
   "metadata": {},
   "source": [
    "## Clean-up"
   ]
  },
  {
   "cell_type": "code",
   "execution_count": 31,
   "metadata": {
    "language_info": {
     "name": "polyglot-notebook"
    },
    "polyglot_notebook": {
     "kernelName": "csharp"
    }
   },
   "outputs": [
    {
     "name": "stdout",
     "output_type": "stream",
     "text": [
      "Queue 'my-queue' deleted.\r\n"
     ]
    }
   ],
   "source": [
    "await queueClient.DeleteIfExistsAsync();\n",
    "Console.WriteLine($\"Queue '{queueName}' deleted.\");"
   ]
  },
  {
   "cell_type": "markdown",
   "id": "4ef1e647",
   "metadata": {},
   "source": [
    "Note: As with blob containers, if you delete a queue, it's just marked for deletion and it takes a while to be actually deleted. If you will try to recreate the queue immediatelly, it will fail."
   ]
  }
 ],
 "metadata": {
  "kernelspec": {
   "display_name": ".NET (C#)",
   "language": "C#",
   "name": ".net-csharp"
  },
  "language_info": {
   "name": "polyglot-notebook"
  },
  "polyglot_notebook": {
   "kernelInfo": {
    "defaultKernelName": "csharp",
    "items": [
     {
      "aliases": [],
      "languageName": "csharp",
      "name": "csharp"
     }
    ]
   }
  }
 },
 "nbformat": 4,
 "nbformat_minor": 5
}

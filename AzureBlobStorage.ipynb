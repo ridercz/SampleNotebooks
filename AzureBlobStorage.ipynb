{
 "cells": [
  {
   "cell_type": "markdown",
   "id": "f732ce8c",
   "metadata": {},
   "source": [
    "# Azure Blob Storage Demo"
   ]
  },
  {
   "cell_type": "markdown",
   "id": "06fc6c80",
   "metadata": {},
   "source": [
    "## Preparation"
   ]
  },
  {
   "cell_type": "code",
   "execution_count": 22,
   "id": "7005df15",
   "metadata": {
    "language_info": {
     "name": "polyglot-notebook"
    },
    "polyglot_notebook": {
     "kernelName": "csharp"
    }
   },
   "outputs": [
    {
     "data": {
      "text/html": [
       "<div><div></div><div></div><div><strong>Installed Packages</strong><ul><li><span>Azure.Storage.Blobs, 12.25.0</span></li></ul></div></div>"
      ]
     },
     "metadata": {},
     "output_type": "display_data"
    }
   ],
   "source": [
    "#r \"nuget: Azure.Storage.Blobs\""
   ]
  },
  {
   "cell_type": "markdown",
   "id": "064b58d5",
   "metadata": {},
   "source": [
    "Import namespaces:"
   ]
  },
  {
   "cell_type": "code",
   "execution_count": 23,
   "id": "852d0e32",
   "metadata": {
    "language_info": {
     "name": "polyglot-notebook"
    },
    "polyglot_notebook": {
     "kernelName": "csharp"
    }
   },
   "outputs": [],
   "source": [
    "using System.IO;\n",
    "using Azure.Storage.Blobs;\n",
    "using Azure.Storage.Blobs.Models;"
   ]
  },
  {
   "cell_type": "markdown",
   "id": "aeae00ca",
   "metadata": {},
   "source": [
    "Set up connection string:"
   ]
  },
  {
   "cell_type": "code",
   "execution_count": null,
   "id": "12dc98b1",
   "metadata": {
    "language_info": {
     "name": "polyglot-notebook"
    },
    "polyglot_notebook": {
     "kernelName": "csharp"
    }
   },
   "outputs": [],
   "source": [
    "string connectionString = \"DefaultEndpointsProtocol=https;AccountName=ztechtest;AccountKey=XXXX;EndpointSuffix=core.windows.net\";"
   ]
  },
  {
   "cell_type": "markdown",
   "id": "9e2dbf58",
   "metadata": {},
   "source": [
    "## Upload and download files"
   ]
  },
  {
   "cell_type": "markdown",
   "id": "cdf581de",
   "metadata": {},
   "source": [
    "Upload a file to Azure Blob Storage:"
   ]
  },
  {
   "cell_type": "code",
   "execution_count": 25,
   "id": "108f60be",
   "metadata": {
    "language_info": {
     "name": "polyglot-notebook"
    },
    "polyglot_notebook": {
     "kernelName": "csharp"
    }
   },
   "outputs": [],
   "source": [
    "// Set your container and blob names\n",
    "string containerName = \"my-container\";\n",
    "string blobName = \"sample.txt\";\n",
    "\n",
    "// Create a sample file\n",
    "string localFilePath = Path.GetTempFileName();\n",
    "System.IO.File.WriteAllText(localFilePath, \"Hello, World!\");\n",
    "\n",
    "// Create a BlobServiceClient\n",
    "var blobServiceClient = new BlobServiceClient(connectionString);\n",
    "\n",
    "// Get a reference to a container\n",
    "var containerClient = blobServiceClient.GetBlobContainerClient(containerName);\n",
    "await containerClient.CreateIfNotExistsAsync();\n",
    "\n",
    "// Get a reference to a blob\n",
    "var blobClient = containerClient.GetBlobClient(blobName);\n",
    "\n",
    "// Upload the file\n",
    "using (var fileStream = System.IO.File.OpenRead(localFilePath)) {\n",
    "    await blobClient.UploadAsync(fileStream, overwrite: true);\n",
    "}\n",
    "\n",
    "Console.WriteLine($\"Uploaded file {localFilePath} to {blobClient.Uri}.\");"
   ]
  },
  {
   "cell_type": "markdown",
   "id": "031124b6",
   "metadata": {},
   "source": [
    "List blobs in a container:"
   ]
  },
  {
   "cell_type": "code",
   "execution_count": 26,
   "id": "bebce2cc",
   "metadata": {
    "language_info": {
     "name": "polyglot-notebook"
    },
    "polyglot_notebook": {
     "kernelName": "csharp"
    }
   },
   "outputs": [],
   "source": [
    "// List blobs in the container\n",
    "Console.WriteLine($\"Blobs in container '{containerName}':\");\n",
    "await foreach (var blobItem in containerClient.GetBlobsAsync()) {\n",
    "    var fileSize = blobItem.Properties.ContentLength ?? 0;\n",
    "    Console.WriteLine($\"- {blobItem.Name} ({fileSize} bytes)\");\n",
    "}"
   ]
  },
  {
   "cell_type": "markdown",
   "id": "9fb40ee0",
   "metadata": {},
   "source": [
    "Download a blob:"
   ]
  },
  {
   "cell_type": "code",
   "execution_count": 27,
   "id": "4d9f7197",
   "metadata": {
    "language_info": {
     "name": "polyglot-notebook"
    },
    "polyglot_notebook": {
     "kernelName": "csharp"
    }
   },
   "outputs": [],
   "source": [
    "// Download the blob\n",
    "string downloadFilePath = Path.GetTempFileName();\n",
    "\n",
    "using (var downloadStream = File.OpenWrite(downloadFilePath)) {\n",
    "    await blobClient.DownloadToAsync(downloadStream);\n",
    "}\n",
    "\n",
    "Console.WriteLine($\"Downloaded {blobClient.Uri} to {downloadFilePath}.\");"
   ]
  },
  {
   "cell_type": "markdown",
   "id": "ad2dee2e",
   "metadata": {},
   "source": [
    "## Working with blob metadata"
   ]
  },
  {
   "cell_type": "markdown",
   "id": "1d74bb8d",
   "metadata": {},
   "source": [
    "Upload files `*.jpg` from `C:\\Windows\\Web\\Wallpaper\\ThemeA` to container:"
   ]
  },
  {
   "cell_type": "code",
   "execution_count": 28,
   "metadata": {
    "language_info": {
     "name": "polyglot-notebook"
    },
    "polyglot_notebook": {
     "kernelName": "csharp"
    }
   },
   "outputs": [
    {
     "name": "stdout",
     "output_type": "stream",
     "text": [
      "Uploaded img21.jpg with metadata and Content-MD5 to container my-container\r\n"
     ]
    }
   ],
   "source": [
    "var directoryPath = @\"C:\\Windows\\Web\\Wallpaper\\ThemeA\";\n",
    "var jpgFiles = Directory.GetFiles(directoryPath, \"*.jpg\");\n",
    "foreach (var filePath in jpgFiles) {\n",
    "    var fileName = Path.GetFileName(filePath);\n",
    "    var fileBlobClient = containerClient.GetBlobClient(fileName);\n",
    "    byte[] fileBytes = File.ReadAllBytes(filePath);\n",
    "    byte[] md5Bytes;\n",
    "    string md5Hash;\n",
    "    using (var md5 = System.Security.Cryptography.MD5.Create())\n",
    "    {\n",
    "        md5Bytes = md5.ComputeHash(fileBytes);\n",
    "        md5Hash = BitConverter.ToString(md5Bytes).Replace(\"-\", string.Empty).ToLowerInvariant();\n",
    "    }\n",
    "    var metadata = new Dictionary<string, string>\n",
    "    {\n",
    "        { \"OriginalLocation\", filePath }\n",
    "    };\n",
    "    var headers = new BlobHttpHeaders { \n",
    "        ContentType = \"image/jpeg\", \n",
    "        ContentHash = md5Bytes \n",
    "    };\n",
    "    using (var fileStream = new MemoryStream(fileBytes))\n",
    "    {\n",
    "        await fileBlobClient.UploadAsync(fileStream, new BlobUploadOptions { HttpHeaders = headers, Metadata = metadata });\n",
    "        Console.WriteLine($\"Uploaded {fileName} with metadata and Content-MD5 to container {containerName}\");\n",
    "    }\n",
    "}"
   ]
  },
  {
   "cell_type": "code",
   "execution_count": 29,
   "metadata": {
    "language_info": {
     "name": "polyglot-notebook"
    },
    "polyglot_notebook": {
     "kernelName": "csharp"
    }
   },
   "outputs": [
    {
     "name": "stdout",
     "output_type": "stream",
     "text": [
      "  Content Type: image/jpeg\n",
      "  Last Modified: 8/13/2025 5:49:00 PM +00:00\n",
      "  Content-MD5: 3f1becb6b934f6cae6c560d183e804f0\n",
      "    OriginalLocation: C:\\Windows\\Web\\Wallpaper\\ThemeA\\img20.jpg\n",
      "\n",
      "Blob: img21.jpg\n",
      "  Size: 833851 bytes\n",
      "  Content Type: image/jpeg\n",
      "  Last Modified: 8/13/2025 5:49:01 PM +00:00\n",
      "  Content-MD5: e3a4a7f46f916db794816be4e60bff97\n",
      "  Metadata:\n",
      "    OriginalLocation: C:\\Windows\\Web\\Wallpaper\\ThemeA\\img21.jpg\n",
      "\n",
      "Blob: img22.jpg\n",
      "  Size: 760748 bytes\n",
      "  Content Type: image/jpeg\n",
      "  Last Modified: 8/13/2025 5:49:01 PM +00:00\n",
      "  Content-MD5: cd169f22e8b5eae155121439f0b8be2e\n",
      "  Metadata:\n",
      "    OriginalLocation: C:\\Windows\\Web\\Wallpaper\\ThemeA\\img22.jpg\n",
      "\n",
      "Blob: img23.jpg\n",
      "  Size: 907112 bytes\n",
      "  Content Type: image/jpeg\n",
      "  Last Modified: 8/13/2025 5:49:02 PM +00:00\n",
      "  Content-MD5: dc2b1fd8e198ea0225b095456c7f4518\n",
      "  Metadata:\n",
      "    OriginalLocation: C:\\Windows\\Web\\Wallpaper\\ThemeA\\img23.jpg\n",
      "\n",
      "Blob: sample.txt\n",
      "  Size: 13 bytes\n",
      "  Content Type: application/octet-stream\n",
      "  Content-MD5: 65a8e27d8879283831b664bd8b7f0ad4\n",
      "  Content-MD5: 65a8e27d8879283831b664bd8b7f0ad4\n",
      "\n",
      "\n"
     ]
    }
   ],
   "source": [
    "await foreach (var blobItem in containerClient.GetBlobsAsync())\n",
    "{\n",
    "    var fileBlobClient = containerClient.GetBlobClient(blobItem.Name);\n",
    "    Console.WriteLine($\"Blob: {blobItem.Name}\");\n",
    "\n",
    "    var properties = await fileBlobClient.GetPropertiesAsync();\n",
    "    Console.WriteLine($\"  Size: {properties.Value.ContentLength} bytes\");\n",
    "    Console.WriteLine($\"  Content Type: {properties.Value.ContentType}\");\n",
    "    Console.WriteLine($\"  Last Modified: {properties.Value.LastModified}\");\n",
    "\n",
    "    if(properties.Value.ContentHash != null)\n",
    "    {\n",
    "        Console.WriteLine($\"  Content-MD5: {BitConverter.ToString(properties.Value.ContentHash).Replace(\"-\", string.Empty).ToLowerInvariant()}\");\n",
    "    }\n",
    "    else\n",
    "    {\n",
    "        Console.WriteLine(\"  Content-MD5: Not available\");\n",
    "    }\n",
    "    if(properties.Value.Metadata.Any()) {\n",
    "        Console.WriteLine($\"  Metadata:\");\n",
    "        foreach (var kvp in properties.Value.Metadata)\n",
    "        {\n",
    "            Console.WriteLine($\"    {kvp.Key}: {kvp.Value}\");\n",
    "        }\n",
    "    }\n",
    "    Console.WriteLine();\n",
    "}"
   ]
  },
  {
   "cell_type": "markdown",
   "id": "3f19b56d",
   "metadata": {},
   "source": [
    "## Cleanup"
   ]
  },
  {
   "cell_type": "code",
   "execution_count": 30,
   "metadata": {
    "language_info": {
     "name": "polyglot-notebook"
    },
    "polyglot_notebook": {
     "kernelName": "csharp"
    }
   },
   "outputs": [
    {
     "name": "stdout",
     "output_type": "stream",
     "text": [
      "Deleted container: my-container\r\n"
     ]
    }
   ],
   "source": [
    "await containerClient.DeleteIfExistsAsync();\n",
    "Console.WriteLine($\"Deleted container: {containerName}\");"
   ]
  }
 ],
 "metadata": {
  "kernelspec": {
   "display_name": ".NET (C#)",
   "language": "C#",
   "name": ".net-csharp"
  },
  "language_info": {
   "name": "polyglot-notebook"
  },
  "polyglot_notebook": {
   "kernelInfo": {
    "defaultKernelName": "csharp",
    "items": [
     {
      "aliases": [],
      "languageName": "csharp",
      "name": "csharp"
     }
    ]
   }
  }
 },
 "nbformat": 4,
 "nbformat_minor": 5
}

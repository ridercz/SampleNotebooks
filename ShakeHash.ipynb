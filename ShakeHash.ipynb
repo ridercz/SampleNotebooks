{
 "cells": [
  {
   "cell_type": "markdown",
   "id": "9d2b852b",
   "metadata": {},
   "source": [
    "# Hashing with SHAKE128 and SHAKE256\n",
    "\n",
    "SHAKE128 and SHAKE256 algorithms differ from commonly used hashes (like MD5, SHA-1, SHA-2 or SHA3) by not having a fixed output size. \n",
    "\n",
    "Most hash algorithms have output size determined by their construction:\n",
    "\n",
    "Algorithm      | Output Size (bits) | Output Size (bytes) | Hex Characters\n",
    "-------------- | -----------------: | ------------------: | -------------:\n",
    "MD5            | 128                | 16                   | 32\n",
    "SHA-1          | 160                | 20                   | 40\n",
    "**SHA-2**\n",
    "SHA-224        | 224                | 28                   | 56\n",
    "SHA-256        | 256                | 32                   | 64\n",
    "SHA-384        | 384                | 48                   | 96\n",
    "SHA-512        | 512                | 64                   | 128\n",
    "SHA-512/224    | 224                | 28                   | 56\n",
    "SHA-512/256    | 256                | 32                   | 64\n",
    "**SHA-3** \n",
    "SHA3-224       | 224                | 28                   | 56\n",
    "SHA3-256       | 256                | 32                   | 64\n",
    "SHA3-384       | 384                | 48                   | 96\n",
    "SHA3-512       | 512                | 64                   | 128\n",
    "\n",
    "## Extendable Output Functions (XOFs)\n",
    "\n",
    "With SHAKE algorithms (part of the SHA-3/Keccak family), you can take as much bits as you need. This is good for:\n",
    "\n",
    "* Key derivation\n",
    "* Checksums and integrity verifications\n",
    "* Digital signatures, message authentication\n",
    "* Pseudo random number generation\n",
    "* Protocol padding\n",
    "\n",
    "What is the difference between SHAKE128 and SHAKE256? The shorter variant is computationally easier, longer variant offers better security in long term."
   ]
  },
  {
   "cell_type": "markdown",
   "id": "362cade9",
   "metadata": {},
   "source": [
    "## SHAKE in .NET\n",
    "\n",
    "SHAKE algorithms are supported since .NET 8. However, due to their specific nature, they are _not_ derived from the common `HashAlgorithm` class and are used differently than other hash functions. They _do_ however support the static `HashData` and `HashDataAsync` methods for easy use:"
   ]
  },
  {
   "cell_type": "code",
   "execution_count": 3,
   "id": "17fbee7f",
   "metadata": {
    "language_info": {
     "name": "polyglot-notebook"
    },
    "polyglot_notebook": {
     "kernelName": "csharp"
    }
   },
   "outputs": [
    {
     "name": "stdout",
     "output_type": "stream",
     "text": [
      "SHAKE-128 Hashes:\n",
      "Bits | Hash\n",
      "  40 | 68DD439EA3\n",
      "  80 | 68DD439EA356CFF7B4BF\n",
      " 128 | 68DD439EA356CFF7B4BFBC26C559091A\n",
      " 160 | 68DD439EA356CFF7B4BFBC26C559091A97C7CE58\n",
      " 256 | 68DD439EA356CFF7B4BFBC26C559091A97C7CE58A2FAAB2C975526F8095EFA00\n",
      " 512 | 68DD439EA356CFF7B4BFBC26C559091A97C7CE58A2FAAB2C975526F8095EFA009EB5B8B6DC7C3FB170AA05477C6D060DCDDCDE421069968B0D6934192FFA034A\n",
      "\n",
      "SHAKE-256 Hashes:\n",
      "Bits | Hash\n",
      "  40 | 339AB39E75\n",
      "  80 | 339AB39E75A8A02F2A06\n",
      " 128 | 339AB39E75A8A02F2A061E31D238EA96\n",
      " 160 | 339AB39E75A8A02F2A061E31D238EA96348CB8C4\n",
      " 256 | 339AB39E75A8A02F2A061E31D238EA96348CB8C46B2DFA149F8EF05412D45705\n",
      " 512 | 339AB39E75A8A02F2A061E31D238EA96348CB8C46B2DFA149F8EF05412D45705EA41467D9332FD9633735E09E9F6EDE782644C0FA5157FACB95077A647CE5E2D\n"
     ]
    }
   ],
   "source": [
    "using System.Security.Cryptography;\n",
    "\n",
    "var sourceText = \"Quick brown fox jumps over the lazy dog\";\n",
    "var sourceBytes = System.Text.Encoding.UTF8.GetBytes(sourceText);\n",
    "var hashLengthsInBytes = new int[] { 5, 10, 16, 20, 32, 64 };\n",
    "\n",
    "Console.WriteLine(\"SHAKE-128 Hashes:\");\n",
    "Console.WriteLine(\"Bits | Hash\");\n",
    "foreach (var length in hashLengthsInBytes){\n",
    "    var hashBytes = Shake128.HashData(sourceBytes, length);\n",
    "    Console.WriteLine($\"{length * 8,4} | {Convert.ToHexString(hashBytes)}\");\n",
    "}\n",
    "Console.WriteLine();\n",
    "\n",
    "Console.WriteLine(\"SHAKE-256 Hashes:\");\n",
    "Console.WriteLine(\"Bits | Hash\");\n",
    "foreach (var length in hashLengthsInBytes){\n",
    "    var hashBytes = Shake256.HashData(sourceBytes, length);\n",
    "    Console.WriteLine($\"{length * 8,4} | {Convert.ToHexString(hashBytes)}\");\n",
    "}\n"
   ]
  },
  {
   "cell_type": "markdown",
   "id": "d2195f03",
   "metadata": {},
   "source": [
    "We can, however, read result as we like, without length specified upfront:"
   ]
  },
  {
   "cell_type": "code",
   "execution_count": 6,
   "id": "16b0527f",
   "metadata": {},
   "outputs": [
    {
     "name": "stdout",
     "output_type": "stream",
     "text": [
      "68DD439EA356CFF7B4BFBC26C559091A97C7CE58A2FAAB2C975526F8095EFA009EB5B8B6DC7C3FB170AA05477C6D060DCDDCDE421069968B0D6934192FFA034A"
     ]
    }
   ],
   "source": [
    "using (var xof = new Shake128()){\n",
    "    xof.AppendData(sourceBytes);\n",
    "    for (var i = 0; i < 64; i++){\n",
    "        var hashByte = xof.Read(1);\n",
    "        Console.Write($\"{hashByte[0]:X2}\");\n",
    "        System.Threading.Thread.Sleep(100);\n",
    "    }\n",
    "}"
   ]
  },
  {
   "cell_type": "markdown",
   "id": "a03fa036",
   "metadata": {},
   "source": [
    "## Benchmark\n",
    "\n",
    "Let's compare speed of SHAKE128 and SHAKE256 to the fixed-length hashes:"
   ]
  },
  {
   "cell_type": "code",
   "execution_count": 10,
   "id": "98989099",
   "metadata": {},
   "outputs": [
    {
     "name": "stdout",
     "output_type": "stream",
     "text": [
      "Hashing file D:\\Install\\SQL_Server_2022_Express_Advanced.iso (623 MB):\n",
      "\n",
      "Hash         | Time    | Result\n",
      "----------------------------------------------------------------------------------------------------------------------------------------------------------\n",
      "MD5          | 1421 ms | bcf84c500cd661e95bea8eebd7fbcd1b\n",
      "SHA-1        | 1296 ms | 0570a2a468771efa8492cf3d74e8eefa5fc929c9\n",
      "SHA-256      |  695 ms | e8c7cf1f4ad1a52895c99338d100d5a9c0ad6d51a6f76230e095d6f657683d65\n",
      "SHA-384      | 1500 ms | c508cb2a75978c19dc826d5ad2c7e959078d603e2f511f8f9fdec8552b260f03c1492ec3baff663f011d92b7c632fb1a\n",
      "SHA-512      | 1517 ms | 292431b2f3e8d97da2dfccac2e069609dbbc3e4fee43d928cb1ac903fab3b31c09567f6d0294aa677385637b71e5b40a6cfe42261a176d5a63fbd4900597d3d8\n",
      "SHA3-256     | 2221 ms | d1bd951e53021f9dee5218566748faa940a96cf31a75ef139542bfb328baa601\n",
      "SHA3-384     | 2832 ms | c0586208ca40ab228a066437033dd045be49ad794b27b70c482135aeb376410c4b40ceeb0321ba59bd0aaffd758fb431\n",
      "SHA3-512     | 3780 ms | 8a5d02d8e61a7083491d8d3be2093eb2e8be8999fbbe7f271359f17a67f49b9cf7d6ba302ec542bfbf7f4770fa207f19ccf854c9b8fc7366f381455af7d2f0c3\n",
      "SHAKE128-128 | 1928 ms | 439e4c9ba07ff4ef4163309797bb7299\n",
      "SHAKE128-160 | 1948 ms | 439e4c9ba07ff4ef4163309797bb729910b8f27d\n",
      "SHAKE128-256 | 1900 ms | 439e4c9ba07ff4ef4163309797bb729910b8f27dffe244abd9b2e914f9db36d5\n",
      "SHAKE128-384 | 1937 ms | 439e4c9ba07ff4ef4163309797bb729910b8f27dffe244abd9b2e914f9db36d5f7e24d2919c3dfe4c4b1caaf8b3a6d7d\n",
      "SHAKE128-512 | 1963 ms | 439e4c9ba07ff4ef4163309797bb729910b8f27dffe244abd9b2e914f9db36d5f7e24d2919c3dfe4c4b1caaf8b3a6d7d4f0a3c8d4055dc28c94cc79848c4a274\n",
      "SHAKE256-128 | 2283 ms | dd00ce03fe5ced9b3b2f6a73ce68f23d\n",
      "SHAKE256-160 | 2276 ms | dd00ce03fe5ced9b3b2f6a73ce68f23def279c96\n",
      "SHAKE256-256 | 2358 ms | dd00ce03fe5ced9b3b2f6a73ce68f23def279c960f791d18728217b51b67f6c0\n",
      "SHAKE256-384 | 2238 ms | dd00ce03fe5ced9b3b2f6a73ce68f23def279c960f791d18728217b51b67f6c04d77eb1dfddc17981ec179052b612068\n",
      "SHAKE256-512 | 2265 ms | dd00ce03fe5ced9b3b2f6a73ce68f23def279c960f791d18728217b51b67f6c04d77eb1dfddc17981ec179052b612068e2b064683a71ad7fb9afaeba7c3a34c3\n",
      "----------------------------------------------------------------------------------------------------------------------------------------------------------\n"
     ]
    }
   ],
   "source": [
    "using System.IO;\n",
    "using System.Diagnostics;\n",
    "\n",
    "static (string, TimeSpan) HashStream(Stream s, HashAlgorithm hash) {\n",
    "    // Compute Hash\n",
    "    Stopwatch sw = Stopwatch.StartNew();\n",
    "    byte[] hashData = hash.ComputeHash(s);\n",
    "    sw.Stop();\n",
    "\n",
    "    // Convert bytes to hexadecimal string\n",
    "    return (Convert.ToHexStringLower(hashData), sw.Elapsed);\n",
    "}\n",
    "\n",
    "static void HashFile(string label, string fileName, HashAlgorithm hash) {\n",
    "    using var fs = File.OpenRead(fileName);\n",
    "    var (hashString, time) = HashStream(fs, hash);\n",
    "    Console.WriteLine($\"{label,-12} | {time.TotalMilliseconds,4:F0} ms | {hashString}\");\n",
    "}\n",
    "\n",
    "static void Shake128File(string fileName, int outputLength) {\n",
    "    using var fs = File.OpenRead(fileName);\n",
    "\n",
    "    // Compute hash\n",
    "    var sw = Stopwatch.StartNew();\n",
    "    byte[] hashData = Shake128.HashData(fs, outputLength / 8);\n",
    "    sw.Stop();\n",
    "\n",
    "    // Print result\n",
    "    var hashString = Convert.ToHexStringLower(hashData);\n",
    "    Console.WriteLine($\"SHAKE128-{outputLength} | {sw.Elapsed.TotalMilliseconds,4:F0} ms | {hashString}\");\n",
    "}\n",
    "\n",
    "static void Shake256File(string fileName, int outputLength) {\n",
    "    using var fs = File.OpenRead(fileName);\n",
    "\n",
    "    // Compute hash\n",
    "    var sw = Stopwatch.StartNew();\n",
    "    byte[] hashData = Shake256.HashData(fs, outputLength / 8);\n",
    "    sw.Stop();\n",
    "\n",
    "    // Print result\n",
    "    var hashString = Convert.ToHexStringLower(hashData);\n",
    "    Console.WriteLine($\"SHAKE256-{outputLength} | {sw.Elapsed.TotalMilliseconds,4:F0} ms | {hashString}\");\n",
    "}\n",
    "\n",
    "const string FileName = @\"D:\\Install\\SQL_Server_2022_Express_Advanced.iso\";\n",
    "Console.WriteLine($\"Hashing file {FileName} ({new FileInfo(FileName).Length / 1024 / 1024} MB):\");\n",
    "Console.WriteLine();\n",
    "Console.WriteLine($\"{\"Hash\",-12} | {\"Time\",-7} | Result\");\n",
    "Console.WriteLine(new string('-', 154));\n",
    "HashFile(\"MD5\", FileName, MD5.Create());\n",
    "HashFile(\"SHA-1\", FileName, SHA1.Create());\n",
    "HashFile(\"SHA-256\", FileName, SHA256.Create());\n",
    "HashFile(\"SHA-384\", FileName, SHA384.Create());\n",
    "HashFile(\"SHA-512\", FileName, SHA512.Create());\n",
    "HashFile(\"SHA3-256\", FileName, SHA3_256.Create());\n",
    "HashFile(\"SHA3-384\", FileName, SHA3_384.Create());\n",
    "HashFile(\"SHA3-512\", FileName, SHA3_512.Create());\n",
    "Shake128File(FileName, 128);\n",
    "Shake128File(FileName, 160);\n",
    "Shake128File(FileName, 256);\n",
    "Shake128File(FileName, 384);\n",
    "Shake128File(FileName, 512);\n",
    "Shake256File(FileName, 128);\n",
    "Shake256File(FileName, 160);\n",
    "Shake256File(FileName, 256);\n",
    "Shake256File(FileName, 384);\n",
    "Shake256File(FileName, 512);\n",
    "Console.WriteLine(new string('-', 154));"
   ]
  }
 ],
 "metadata": {
  "kernelspec": {
   "display_name": ".NET (C#)",
   "language": "C#",
   "name": ".net-csharp"
  },
  "language_info": {
   "name": "polyglot-notebook"
  },
  "polyglot_notebook": {
   "kernelInfo": {
    "defaultKernelName": "csharp",
    "items": [
     {
      "aliases": [],
      "languageName": "csharp",
      "name": "csharp"
     }
    ]
   }
  }
 },
 "nbformat": 4,
 "nbformat_minor": 5
}

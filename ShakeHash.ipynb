{
 "cells": [
  {
   "cell_type": "markdown",
   "id": "9d2b852b",
   "metadata": {},
   "source": [
    "# Hashing with SHAKE128 and SHAKE256\n",
    "\n",
    "SHAKE128 and SHAKE256 algorithms differ from commonly used hashes (like MD5, SHA-1, SHA-2 or SHA3) by not having a fixed output size. \n",
    "\n",
    "Most hash algorithms have output size determined by their construction:\n",
    "\n",
    "Algorithm      | Output Size (bits) | Output Size (bytes) | Output Size (hex)\n",
    "-------------- | -----------------: | ------------------: | -----------------:\n",
    "_Legacy_\n",
    "MD5            | 128                | 16                   | 32\n",
    "SHA-1          | 160                | 20                   | 40\n",
    "_SHA-2 family_\n",
    "SHA-224        | 224                | 28                   | 56\n",
    "SHA-256        | 256                | 32                   | 64\n",
    "SHA-384        | 384                | 48                   | 96\n",
    "SHA-512        | 512                | 64                   | 128\n",
    "SHA-512/224    | 224                | 28                   | 56\n",
    "SHA-512/256    | 256                | 32                   | 64\n",
    "_SHA-3 family_\n",
    "SHA3-224       | 224                | 28                   | 56\n",
    "SHA3-256       | 256                | 32                   | 64\n",
    "SHA3-384       | 384                | 48                   | 96\n",
    "SHA3-512       | 512                | 64                   | 128\n",
    "\n",
    "## Extendable Output Functions (XOFs)\n",
    "\n",
    "With SHAKE algorithms (part of the SHA-3/Keccak family), you can take as much bits as you need. This is good for:\n",
    "\n",
    "* Key derivation\n",
    "* Checksums and integrity verifications\n",
    "* Digital signatures, message authentication\n",
    "* Pseudo random number generation\n",
    "* Protocol padding\n",
    "\n",
    "What is the difference between SHAKE128 and SHAKE256? The shorter variant is computationally easier, longer variant offers better security in long term."
   ]
  },
  {
   "cell_type": "markdown",
   "id": "362cade9",
   "metadata": {},
   "source": [
    "## SHAKE in .NET\n",
    "\n",
    "SHAKE algorithms are supported since .NET 8 as part of runtime, no external NuGet package required. \n",
    "\n",
    "However, due to their specific nature, they are _not_ derived from the common `HashAlgorithm` class and are used differently than other hash functions. They _do_ support the static `HashData` and `HashDataAsync` methods for easy use:"
   ]
  },
  {
   "cell_type": "code",
   "execution_count": null,
   "metadata": {
    "language_info": {
     "name": "polyglot-notebook"
    },
    "polyglot_notebook": {
     "kernelName": "csharp"
    }
   },
   "outputs": [
    {
     "name": "stdout",
     "output_type": "stream",
     "text": [
      "SHAKE-128 Hashes:\n",
      "Bits | Hash\n",
      "  40 | 68dd439ea3\n",
      "  80 | 68dd439ea356cff7b4bf\n",
      " 128 | 68dd439ea356cff7b4bfbc26c559091a\n",
      " 160 | 68dd439ea356cff7b4bfbc26c559091a97c7ce58\n",
      " 256 | 68dd439ea356cff7b4bfbc26c559091a97c7ce58a2faab2c975526f8095efa00\n",
      " 512 | 68dd439ea356cff7b4bfbc26c559091a97c7ce58a2faab2c975526f8095efa009eb5b8b6dc7c3fb170aa05477c6d060dcddcde421069968b0d6934192ffa034a\n",
      "\n",
      "SHAKE-256 Hashes:\n",
      "Bits | Hash\n",
      "  40 | 339ab39e75\n",
      "  80 | 339ab39e75a8a02f2a06\n",
      " 128 | 339ab39e75a8a02f2a061e31d238ea96\n",
      " 160 | 339ab39e75a8a02f2a061e31d238ea96348cb8c4\n",
      " 256 | 339ab39e75a8a02f2a061e31d238ea96348cb8c46b2dfa149f8ef05412d45705\n",
      " 512 | 339ab39e75a8a02f2a061e31d238ea96348cb8c46b2dfa149f8ef05412d45705ea41467d9332fd9633735e09e9f6ede782644c0fa5157facb95077a647ce5e2d\n"
     ]
    }
   ],
   "source": [
    "using System.IO;\n",
    "using System.Diagnostics;\n",
    "using System.Security.Cryptography;\n",
    "\n",
    "var sourceText = \"Quick brown fox jumps over the lazy dog\";\n",
    "var sourceBytes = System.Text.Encoding.UTF8.GetBytes(sourceText);\n",
    "var hashLengthsInBytes = new int[] { 5, 10, 16, 20, 32, 64 };\n",
    "\n",
    "Console.WriteLine(\"SHAKE-128 Hashes:\");\n",
    "Console.WriteLine(\"Bits | Hash\");\n",
    "foreach (var length in hashLengthsInBytes){\n",
    "    var hashBytes = Shake128.HashData(sourceBytes, length);\n",
    "    Console.WriteLine($\"{length * 8,4} | {Convert.ToHexStringLower(hashBytes)}\");\n",
    "}\n",
    "Console.WriteLine();\n",
    "\n",
    "Console.WriteLine(\"SHAKE-256 Hashes:\");\n",
    "Console.WriteLine(\"Bits | Hash\");\n",
    "foreach (var length in hashLengthsInBytes){\n",
    "    var hashBytes = Shake256.HashData(sourceBytes, length);\n",
    "    Console.WriteLine($\"{length * 8,4} | {Convert.ToHexStringLower(hashBytes)}\");\n",
    "}\n"
   ]
  },
  {
   "cell_type": "markdown",
   "id": "d2195f03",
   "metadata": {},
   "source": [
    "We can read result byte by byte as we like, without length being specified upfront:"
   ]
  },
  {
   "cell_type": "code",
   "execution_count": 12,
   "id": "16b0527f",
   "metadata": {
    "language_info": {
     "name": "polyglot-notebook"
    },
    "polyglot_notebook": {
     "kernelName": "csharp"
    }
   },
   "outputs": [
    {
     "name": "stdout",
     "output_type": "stream",
     "text": [
      "68dd439ea356cff7b4bfbc26c559091a97c7ce58a2faab2c975526f8095efa009eb5b8b6dc7c3fb170aa05477c6d060dcddcde421069968b0d6934192ffa034a"
     ]
    }
   ],
   "source": [
    "using (var xof = new Shake128()) {\n",
    "    // Add data to be hashed\n",
    "    xof.AppendData(sourceBytes);\n",
    "\n",
    "    // Read 64 bytes of hash output, one byte at a time\n",
    "    for (var i = 0; i < 64; i++){\n",
    "        var hashByte = xof.Read(1);\n",
    "        Console.Write($\"{hashByte[0]:x2}\");\n",
    "\n",
    "        // Add sleep to show incremental output in notebook cell\n",
    "        System.Threading.Thread.Sleep(100);\n",
    "    }\n",
    "}"
   ]
  },
  {
   "cell_type": "markdown",
   "id": "a03fa036",
   "metadata": {},
   "source": [
    "## Benchmark\n",
    "\n",
    "Let's compare speed of SHAKE128 and SHAKE256 to the fixed-length hashes. First, define `HashFile` method to hash file contents using classic hash algorithms:"
   ]
  },
  {
   "cell_type": "code",
   "execution_count": 13,
   "id": "98989099",
   "metadata": {
    "language_info": {
     "name": "polyglot-notebook"
    },
    "polyglot_notebook": {
     "kernelName": "csharp"
    }
   },
   "outputs": [],
   "source": [
    "static void HashFile(string label, string fileName, HashAlgorithm hash) {\n",
    "    using var fs = File.OpenRead(fileName);\n",
    "\n",
    "    // Compute hash\n",
    "    var sw = Stopwatch.StartNew();\n",
    "    var hashData = hash.ComputeHash(fs);\n",
    "    sw.Stop();\n",
    "\n",
    "    // Print result\n",
    "    var hashString = Convert.ToHexStringLower(hashData);\n",
    "    Console.WriteLine($\"{label,-13} | {sw.Elapsed.TotalMilliseconds,4:F0} ms | {hashString}\");\n",
    "}"
   ]
  },
  {
   "cell_type": "markdown",
   "id": "d0b6db3a",
   "metadata": {},
   "source": [
    "Next, define `Shake128File` and `Shake256File`, to use XOFs. Note that we cannot use some common base class, because there isn't any:"
   ]
  },
  {
   "cell_type": "code",
   "execution_count": 14,
   "metadata": {
    "language_info": {
     "name": "polyglot-notebook"
    },
    "polyglot_notebook": {
     "kernelName": "csharp"
    }
   },
   "outputs": [],
   "source": [
    "static void Shake128File(string fileName, int outputLength) {\n",
    "    using var fs = File.OpenRead(fileName);\n",
    "\n",
    "    // Compute hash\n",
    "    var sw = Stopwatch.StartNew();\n",
    "    var hashData = Shake128.HashData(fs, outputLength / 8);\n",
    "    sw.Stop();\n",
    "\n",
    "    // Print result\n",
    "    var hashString = Convert.ToHexStringLower(hashData);\n",
    "    Console.WriteLine($\"SHAKE128-{outputLength,-4} | {sw.Elapsed.TotalMilliseconds,4:F0} ms | {hashString}\");\n",
    "}\n",
    "\n",
    "static void Shake256File(string fileName, int outputLength) {\n",
    "    using var fs = File.OpenRead(fileName);\n",
    "\n",
    "    // Compute hash\n",
    "    var sw = Stopwatch.StartNew();\n",
    "    var hashData = Shake256.HashData(fs, outputLength / 8);\n",
    "    sw.Stop();\n",
    "\n",
    "    // Print result\n",
    "    var hashString = Convert.ToHexStringLower(hashData);\n",
    "    Console.WriteLine($\"SHAKE256-{outputLength,-4} | {sw.Elapsed.TotalMilliseconds,4:F0} ms | {hashString}\");\n",
    "}"
   ]
  },
  {
   "cell_type": "markdown",
   "id": "c30acf8b",
   "metadata": {},
   "source": [
    "Now we can compute the results and compare the algorithms:"
   ]
  },
  {
   "cell_type": "code",
   "execution_count": 15,
   "metadata": {
    "language_info": {
     "name": "polyglot-notebook"
    },
    "polyglot_notebook": {
     "kernelName": "csharp"
    }
   },
   "outputs": [
    {
     "name": "stdout",
     "output_type": "stream",
     "text": [
      "Hashing file D:\\Install\\SQL_Server_2022_Express_Advanced.iso (623 MB):\n",
      "\n",
      "Hash          | Time    | Result\n",
      "----------------------------------------------------------------------------------------------------------------------------------------------------------\n",
      "MD5           | 1592 ms | bcf84c500cd661e95bea8eebd7fbcd1b\n",
      "SHA-1         | 1337 ms | 0570a2a468771efa8492cf3d74e8eefa5fc929c9\n",
      "----------------------------------------------------------------------------------------------------------------------------------------------------------\n",
      "SHA-256       |  730 ms | e8c7cf1f4ad1a52895c99338d100d5a9c0ad6d51a6f76230e095d6f657683d65\n",
      "SHA-384       | 1673 ms | c508cb2a75978c19dc826d5ad2c7e959078d603e2f511f8f9fdec8552b260f03c1492ec3baff663f011d92b7c632fb1a\n",
      "SHA-512       | 1639 ms | 292431b2f3e8d97da2dfccac2e069609dbbc3e4fee43d928cb1ac903fab3b31c09567f6d0294aa677385637b71e5b40a6cfe42261a176d5a63fbd4900597d3d8\n",
      "----------------------------------------------------------------------------------------------------------------------------------------------------------\n",
      "SHA3-256      | 2575 ms | d1bd951e53021f9dee5218566748faa940a96cf31a75ef139542bfb328baa601\n",
      "SHA3-384      | 2979 ms | c0586208ca40ab228a066437033dd045be49ad794b27b70c482135aeb376410c4b40ceeb0321ba59bd0aaffd758fb431\n",
      "SHA3-512      | 4058 ms | 8a5d02d8e61a7083491d8d3be2093eb2e8be8999fbbe7f271359f17a67f49b9cf7d6ba302ec542bfbf7f4770fa207f19ccf854c9b8fc7366f381455af7d2f0c3\n",
      "----------------------------------------------------------------------------------------------------------------------------------------------------------\n",
      "SHAKE128-128  | 2171 ms | 439e4c9ba07ff4ef4163309797bb7299\n",
      "SHAKE128-160  | 1969 ms | 439e4c9ba07ff4ef4163309797bb729910b8f27d\n",
      "SHAKE128-256  | 2155 ms | 439e4c9ba07ff4ef4163309797bb729910b8f27dffe244abd9b2e914f9db36d5\n",
      "SHAKE128-384  | 2091 ms | 439e4c9ba07ff4ef4163309797bb729910b8f27dffe244abd9b2e914f9db36d5f7e24d2919c3dfe4c4b1caaf8b3a6d7d\n",
      "SHAKE128-512  | 2159 ms | 439e4c9ba07ff4ef4163309797bb729910b8f27dffe244abd9b2e914f9db36d5f7e24d2919c3dfe4c4b1caaf8b3a6d7d4f0a3c8d4055dc28c94cc79848c4a274\n",
      "SHAKE128-1024 | 2137 ms | 439e4c9ba07ff4ef4163309797bb729910b8f27dffe244abd9b2e914f9db36d5f7e24d2919c3dfe4c4b1caaf8b3a6d7d4f0a3c8d4055dc28c94cc79848c4a274bfeb62e49f6b5d6044a2a684bd52bf98f4175a70e9fd16dbc16bbcdad7fe655c9dc6c045e6713f6a8fa8b71bd083acc6439c6b671100e0456daad86021cc54f4\n",
      "----------------------------------------------------------------------------------------------------------------------------------------------------------\n",
      "SHAKE256-128  | 2555 ms | dd00ce03fe5ced9b3b2f6a73ce68f23d\n",
      "SHAKE256-160  | 2616 ms | dd00ce03fe5ced9b3b2f6a73ce68f23def279c96\n",
      "SHAKE256-256  | 2337 ms | dd00ce03fe5ced9b3b2f6a73ce68f23def279c960f791d18728217b51b67f6c0\n",
      "SHAKE256-384  | 2471 ms | dd00ce03fe5ced9b3b2f6a73ce68f23def279c960f791d18728217b51b67f6c04d77eb1dfddc17981ec179052b612068\n",
      "SHAKE256-512  | 2597 ms | dd00ce03fe5ced9b3b2f6a73ce68f23def279c960f791d18728217b51b67f6c04d77eb1dfddc17981ec179052b612068e2b064683a71ad7fb9afaeba7c3a34c3\n",
      "SHAKE256-1024 | 2372 ms | dd00ce03fe5ced9b3b2f6a73ce68f23def279c960f791d18728217b51b67f6c04d77eb1dfddc17981ec179052b612068e2b064683a71ad7fb9afaeba7c3a34c355e6b2f754aa83d753fda00a2931d1ae779c96e512961175b21fc799a233f7f56964e7102baaf5833f7daf5db668b99b70bef5ede932218db3140e528e1acef7\n"
     ]
    }
   ],
   "source": [
    "const string FileName = @\"D:\\Install\\SQL_Server_2022_Express_Advanced.iso\";\n",
    "Console.WriteLine($\"Hashing file {FileName} ({new FileInfo(FileName).Length / 1024 / 1024} MB):\");\n",
    "Console.WriteLine();\n",
    "\n",
    "Console.WriteLine($\"{\"Hash\",-13} | {\"Time\",-7} | Result\");\n",
    "Console.WriteLine(new string('-', 154));\n",
    "\n",
    "// Fixed length hashes\n",
    "\n",
    "HashFile(\"MD5\", FileName, MD5.Create());\n",
    "HashFile(\"SHA-1\", FileName, SHA1.Create());\n",
    "Console.WriteLine(new string('-', 154));\n",
    "\n",
    "HashFile(\"SHA-256\", FileName, SHA256.Create());\n",
    "HashFile(\"SHA-384\", FileName, SHA384.Create());\n",
    "HashFile(\"SHA-512\", FileName, SHA512.Create());\n",
    "Console.WriteLine(new string('-', 154));\n",
    "\n",
    "HashFile(\"SHA3-256\", FileName, SHA3_256.Create());\n",
    "HashFile(\"SHA3-384\", FileName, SHA3_384.Create());\n",
    "HashFile(\"SHA3-512\", FileName, SHA3_512.Create());\n",
    "Console.WriteLine(new string('-', 154));\n",
    "\n",
    "// Extendable output functions\n",
    "\n",
    "Shake128File(FileName, 128);\n",
    "Shake128File(FileName, 160);\n",
    "Shake128File(FileName, 256);\n",
    "Shake128File(FileName, 384);\n",
    "Shake128File(FileName, 512);\n",
    "Shake128File(FileName, 1024);\n",
    "Console.WriteLine(new string('-', 154));\n",
    "\n",
    "Shake256File(FileName, 128);\n",
    "Shake256File(FileName, 160);\n",
    "Shake256File(FileName, 256);\n",
    "Shake256File(FileName, 384);\n",
    "Shake256File(FileName, 512);\n",
    "Shake256File(FileName, 1024);"
   ]
  },
  {
   "cell_type": "markdown",
   "id": "c84e7cbb",
   "metadata": {},
   "source": [
    "We can see that the SHAKE algorithms are faster than SHA-3 family algorithms for comparable hash length and that the execution time grows only slowly for larger hashes."
   ]
  }
 ],
 "metadata": {
  "kernelspec": {
   "display_name": ".NET (C#)",
   "language": "C#",
   "name": ".net-csharp"
  },
  "language_info": {
   "name": "polyglot-notebook"
  },
  "polyglot_notebook": {
   "kernelInfo": {
    "defaultKernelName": "csharp",
    "items": [
     {
      "aliases": [],
      "languageName": "csharp",
      "name": "csharp"
     }
    ]
   }
  }
 },
 "nbformat": 4,
 "nbformat_minor": 5
}
